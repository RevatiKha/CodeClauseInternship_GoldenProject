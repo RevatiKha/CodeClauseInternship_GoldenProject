{
  "cells": [
    {
      "cell_type": "markdown",
      "source": [
        "<B>CodeClause"
      ],
      "metadata": {
        "id": "OqFSjWZrA6D6"
      }
    },
    {
      "cell_type": "markdown",
      "source": [
        "**Project Name- Golden Project.<br>\n",
        "Task1-Building a Resume Parser Using NLP and Machine Learning.**"
      ],
      "metadata": {
        "id": "FCmH3KiKBB1d"
      }
    },
    {
      "cell_type": "markdown",
      "metadata": {
        "id": "wd4f7SFKHu8J"
      },
      "source": [
        "# Problem Statement  :      \n",
        "\n",
        "Gone are the days when recruiters used to manually screen\n",
        "resumes for a long time. Sifting through thousands of candidates' resumes for\n",
        "a job is no more a challenging task- all thanks to resume parsers. Resume parsers use machine learning technology to help recruiters search thousands\n",
        "of resumes in an intelligent manner so they can screen the right candidate for a job interview.\n",
        "In this data science project, you will build an NLP algorithm that parses a resume and looks for the words (skills) mentioned in the job description. You\n",
        "will use the Phrase Matcher feature of the NLP library Spacy that does \"word/phrase\" matching for the resume documents. The resume parser then counts the occurrence of words (skills) under various categories for each\n",
        "resume that helps recruiters screen ideal candidates for a job.\n"
      ]
    },
    {
      "cell_type": "markdown",
      "metadata": {
        "id": "2qrph0npibXz"
      },
      "source": [
        "# Importing the Libraries"
      ]
    },
    {
      "cell_type": "code",
      "execution_count": null,
      "metadata": {
        "colab": {
          "base_uri": "https://localhost:8080/"
        },
        "id": "Dkhcyr6WoOmu",
        "outputId": "39a8cd15-d9d2-4395-9548-9687ba199d68"
      },
      "outputs": [
        {
          "name": "stderr",
          "output_type": "stream",
          "text": [
            "[nltk_data] Downloading package averaged_perceptron_tagger to\n",
            "[nltk_data]     /root/nltk_data...\n",
            "[nltk_data]   Package averaged_perceptron_tagger is already up-to-\n",
            "[nltk_data]       date!\n",
            "[nltk_data] Downloading package stopwords to /root/nltk_data...\n",
            "[nltk_data]   Package stopwords is already up-to-date!\n",
            "[nltk_data] Downloading package wordnet to /root/nltk_data...\n",
            "[nltk_data]   Package wordnet is already up-to-date!\n",
            "[nltk_data] Downloading package omw-1.4 to /root/nltk_data...\n",
            "[nltk_data]   Package omw-1.4 is already up-to-date!\n"
          ]
        }
      ],
      "source": [
        "import pandas\n",
        "import spacy\n",
        "import nltk\n",
        "import matplotlib.pyplot as plt\n",
        "nltk.download('averaged_perceptron_tagger')\n",
        "from nltk import pos_tag\n",
        "from nltk.corpus import stopwords\n",
        "nltk.download('stopwords')\n",
        "nltk.download('wordnet')\n",
        "nltk.download('omw-1.4')\n",
        "import string\n",
        "import re"
      ]
    },
    {
      "cell_type": "markdown",
      "metadata": {
        "id": "ySFSxLok_E94"
      },
      "source": [
        "# Displaying the skills required"
      ]
    },
    {
      "cell_type": "code",
      "execution_count": null,
      "metadata": {
        "colab": {
          "base_uri": "https://localhost:8080/",
          "height": 174
        },
        "id": "9We29Lzq_Lrb",
        "outputId": "92c6de76-e34f-4aa2-a297-daaccc1fed00"
      },
      "outputs": [
        {
          "data": {
            "application/vnd.google.colaboratory.intrinsic+json": {
              "type": "string"
            },
            "text/plain": [
              "'Data mining or extracting usable data from valuable data sources Using machine learning tools to select features, create and optimize classifiers Carrying out preprocessing of structured and unstructured data Enhancing data collection procedures to include all relevant information for developing analytic systems Processing, cleansing, and validating the integrity of data to be used for analysis Analyzing large amounts of information to find patterns and solutions Developing prediction systems and machine learning algorithms Presenting results in a clear manner Propose solutions and strategies to tackle business challenges Collaborate with Business and IT teams Become a Data Science Expert & Get Your Dream Job Professional Certificate Program In Data ScienceEXPLORE PROGRAMBecome a Data Science Expert & Get Your Dream Job Data Scientist Skills You need to master the skills required for data scientist jobs in various industries and organizations if you want to pursue a data scientist career. Let’s look at the must-have data scientist qualifications. Key skills needed to become a data scientist: Programming Skills – knowledge of statistical programming languages like R, Python, and database query languages like SQL, Hive, Pig is desirable. Familiarity with Scala, Java, or C++ is an added advantage. Statistics – Good applied statistical skills, including knowledge of statistical tests, distributions, regression, maximum likelihood estimators, etc. Proficiency in statistics is essential for data-driven companies. Machine Learning – good knowledge of machine learning methods like k-Nearest Neighbors, Naive Bayes, SVM, Decision Forests. Strong Math Skills (Multivariable Calculus and Linear Algebra) - understanding the fundamentals of Multivariable Calculus and Linear Algebra is important as they form the basis of a lot of predictive performance or algorithm optimization techniques. Data Wrangling – proficiency in handling imperfections in data is an important aspect of a data scientist job description. Experience with Data Visualization Tools like matplotlib, ggplot, d3.js., Tableau that help to visually encode data Excellent Communication Skills – it is incredibly important to describe findings to a technical and non-technical audience. Strong Software Engineering Background Hands-on experience with data science tools Problem-solving aptitude Analytical mind and great business sense Degree in Computer Science, Engineering or relevant field is preferred Proven Experience as Data Analyst or Data Scientist'"
            ]
          },
          "execution_count": 263,
          "metadata": {},
          "output_type": "execute_result"
        }
      ],
      "source": [
        "skills=\"Data mining or extracting usable data from valuable data sources Using machine learning tools to select features, create and optimize classifiers Carrying out preprocessing of structured and unstructured data Enhancing data collection procedures to include all relevant information for developing analytic systems Processing, cleansing, and validating the integrity of data to be used for analysis Analyzing large amounts of information to find patterns and solutions Developing prediction systems and machine learning algorithms Presenting results in a clear manner Propose solutions and strategies to tackle business challenges Collaborate with Business and IT teams Become a Data Science Expert & Get Your Dream Job Professional Certificate Program In Data ScienceEXPLORE PROGRAMBecome a Data Science Expert & Get Your Dream Job Data Scientist Skills You need to master the skills required for data scientist jobs in various industries and organizations if you want to pursue a data scientist career. Let’s look at the must-have data scientist qualifications. Key skills needed to become a data scientist: Programming Skills – knowledge of statistical programming languages like R, Python, and database query languages like SQL, Hive, Pig is desirable. Familiarity with Scala, Java, or C++ is an added advantage. Statistics – Good applied statistical skills, including knowledge of statistical tests, distributions, regression, maximum likelihood estimators, etc. Proficiency in statistics is essential for data-driven companies. Machine Learning – good knowledge of machine learning methods like k-Nearest Neighbors, Naive Bayes, SVM, Decision Forests. Strong Math Skills (Multivariable Calculus and Linear Algebra) - understanding the fundamentals of Multivariable Calculus and Linear Algebra is important as they form the basis of a lot of predictive performance or algorithm optimization techniques. Data Wrangling – proficiency in handling imperfections in data is an important aspect of a data scientist job description. Experience with Data Visualization Tools like matplotlib, ggplot, d3.js., Tableau that help to visually encode data Excellent Communication Skills – it is incredibly important to describe findings to a technical and non-technical audience. Strong Software Engineering Background Hands-on experience with data science tools Problem-solving aptitude Analytical mind and great business sense Degree in Computer Science, Engineering or relevant field is preferred Proven Experience as Data Analyst or Data Scientist\"\n",
        "skills"
      ]
    },
    {
      "cell_type": "markdown",
      "metadata": {
        "id": "IESp45opuZV8"
      },
      "source": [
        "# Preprocessing of skills data"
      ]
    },
    {
      "cell_type": "code",
      "execution_count": null,
      "metadata": {
        "id": "96Fv363Hue26"
      },
      "outputs": [],
      "source": [
        "text_nonpunc=''.join([char for char in skills if char not in string.punctuation])\n",
        "skills=text_nonpunc\n",
        "tokens=re.split('\\W+',skills)\n",
        "skills=tokens\n",
        "stop_words=set(stopwords.words('english'))\n",
        "re_sw=[word for word in skills if word not in stop_words]\n",
        "skills=re_sw\n",
        "ln=nltk.WordNetLemmatizer()\n",
        "lemm=[ln.lemmatize(word) for word in skills]\n",
        "skills=lemm"
      ]
    },
    {
      "cell_type": "code",
      "execution_count": null,
      "metadata": {
        "id": "vg5M77OFAVlS"
      },
      "outputs": [],
      "source": [
        "nlp = spacy.load(\"en_core_web_sm\")\n",
        "doc=nlp(' '.join([char for char in skills]))\n",
        "def tot_list(text):\n",
        "  return set(' '.join([char for char in text]).lower().split(' '))\n",
        "skills_list=set(' '.join([chunk.text for chunk in doc.noun_chunks]+[token.lemma_ for token in doc if token.pos_ == \"VERB\"]+[entity.text for entity in doc.ents]).lower().split(' '))\n"
      ]
    },
    {
      "cell_type": "markdown",
      "metadata": {
        "id": "NWWI5MdDDjER"
      },
      "source": [
        "# Displaying the skills list"
      ]
    },
    {
      "cell_type": "code",
      "execution_count": null,
      "metadata": {
        "colab": {
          "base_uri": "https://localhost:8080/"
        },
        "id": "0rQex6TQDpHE",
        "outputId": "81e37660-0b0d-432e-8ae9-705728843762"
      },
      "outputs": [
        {
          "data": {
            "text/plain": [
              "{'add',\n",
              " 'advantage',\n",
              " 'algebra',\n",
              " 'algorithm',\n",
              " 'amount',\n",
              " 'analysis',\n",
              " 'analytic',\n",
              " 'analytical',\n",
              " 'analyze',\n",
              " 'apply',\n",
              " 'aptitude',\n",
              " 'aspect',\n",
              " 'audience',\n",
              " 'background',\n",
              " 'basis',\n",
              " 'bayes',\n",
              " 'become',\n",
              " 'business',\n",
              " 'c',\n",
              " 'calculus',\n",
              " 'career',\n",
              " 'carrying',\n",
              " 'certificate',\n",
              " 'challenge',\n",
              " 'classifier',\n",
              " 'clear',\n",
              " 'collaborate',\n",
              " 'collection',\n",
              " 'communication',\n",
              " 'computer',\n",
              " 'create',\n",
              " 'data',\n",
              " 'database',\n",
              " 'decision',\n",
              " 'degree',\n",
              " 'describe',\n",
              " 'description',\n",
              " 'desirable',\n",
              " 'develop',\n",
              " 'dream',\n",
              " 'encode',\n",
              " 'engineering',\n",
              " 'enhance',\n",
              " 'enhancing',\n",
              " 'excellent',\n",
              " 'experience',\n",
              " 'expert',\n",
              " 'extract',\n",
              " 'familiarity',\n",
              " 'feature',\n",
              " 'field',\n",
              " 'find',\n",
              " 'forests',\n",
              " 'form',\n",
              " 'fundamental',\n",
              " 'get',\n",
              " 'ggplot',\n",
              " 'good',\n",
              " 'handson',\n",
              " 'help',\n",
              " 'hive',\n",
              " 'imperfection',\n",
              " 'important',\n",
              " 'include',\n",
              " 'incredibly',\n",
              " 'industry',\n",
              " 'information',\n",
              " 'integrity',\n",
              " 'it',\n",
              " 'java',\n",
              " 'job',\n",
              " 'key',\n",
              " 'knearest',\n",
              " 'knowledge',\n",
              " 'language',\n",
              " 'large',\n",
              " 'learn',\n",
              " 'learning',\n",
              " 'let',\n",
              " 'linear',\n",
              " 'look',\n",
              " 'lot',\n",
              " 'machine',\n",
              " 'manner',\n",
              " 'master',\n",
              " 'math',\n",
              " 'matplotlib',\n",
              " 'mind',\n",
              " 'mining',\n",
              " 'multivariable',\n",
              " 'musthave',\n",
              " 'naive',\n",
              " 'need',\n",
              " 'neighbors',\n",
              " 'nontechnical',\n",
              " 'optimization',\n",
              " 'optimize',\n",
              " 'organization',\n",
              " 'pattern',\n",
              " 'performance',\n",
              " 'pig',\n",
              " 'prediction',\n",
              " 'predictive',\n",
              " 'prefer',\n",
              " 'presenting',\n",
              " 'problemsolving',\n",
              " 'procedure',\n",
              " 'professional',\n",
              " 'proficiency',\n",
              " 'program',\n",
              " 'programbecome',\n",
              " 'programming',\n",
              " 'propose',\n",
              " 'pursue',\n",
              " 'python',\n",
              " 'qualification',\n",
              " 'query',\n",
              " 'r',\n",
              " 'relevant',\n",
              " 'require',\n",
              " 'result',\n",
              " 'scala',\n",
              " 'science',\n",
              " 'scienceexplore',\n",
              " 'scientist',\n",
              " 'select',\n",
              " 'skill',\n",
              " 'skills',\n",
              " 'solution',\n",
              " 'source',\n",
              " 'sql',\n",
              " 'statistical',\n",
              " 'statistics',\n",
              " 'strategy',\n",
              " 'strong',\n",
              " 'structure',\n",
              " 'structured',\n",
              " 'svm',\n",
              " 'system',\n",
              " 'tableau',\n",
              " 'tackle',\n",
              " 'team',\n",
              " 'technical',\n",
              " 'technique',\n",
              " 'tool',\n",
              " 'tools',\n",
              " 'understand',\n",
              " 'unstructured',\n",
              " 'usable',\n",
              " 'use',\n",
              " 'validate',\n",
              " 'valuable',\n",
              " 'various',\n",
              " 'visualization',\n",
              " 'visually',\n",
              " 'want',\n",
              " 'wrangling',\n",
              " 'you',\n",
              " 'your'}"
            ]
          },
          "execution_count": 266,
          "metadata": {},
          "output_type": "execute_result"
        }
      ],
      "source": [
        "skills_list"
      ]
    },
    {
      "cell_type": "markdown",
      "metadata": {
        "id": "F2X92cQA-_ML"
      },
      "source": [
        "# Loading the dataset"
      ]
    },
    {
      "cell_type": "code",
      "execution_count": null,
      "metadata": {
        "id": "mTLKw5ripKRP"
      },
      "outputs": [],
      "source": [
        "df=pandas.read_csv('/content/sample_data/UpdatedResumeDataSet.csv')"
      ]
    },
    {
      "cell_type": "code",
      "execution_count": null,
      "metadata": {
        "colab": {
          "base_uri": "https://localhost:8080/",
          "height": 206
        },
        "id": "vS54SH3ppSrp",
        "outputId": "1b3195cc-7c28-4f62-82ac-12f6f9931212"
      },
      "outputs": [
        {
          "data": {
            "text/html": [
              "\n",
              "  <div id=\"df-f3a85f8f-99a4-4232-8e5d-77290f11115c\">\n",
              "    <div class=\"colab-df-container\">\n",
              "      <div>\n",
              "<style scoped>\n",
              "    .dataframe tbody tr th:only-of-type {\n",
              "        vertical-align: middle;\n",
              "    }\n",
              "\n",
              "    .dataframe tbody tr th {\n",
              "        vertical-align: top;\n",
              "    }\n",
              "\n",
              "    .dataframe thead th {\n",
              "        text-align: right;\n",
              "    }\n",
              "</style>\n",
              "<table border=\"1\" class=\"dataframe\">\n",
              "  <thead>\n",
              "    <tr style=\"text-align: right;\">\n",
              "      <th></th>\n",
              "      <th>Category</th>\n",
              "      <th>Resume</th>\n",
              "    </tr>\n",
              "  </thead>\n",
              "  <tbody>\n",
              "    <tr>\n",
              "      <th>0</th>\n",
              "      <td>Data Science</td>\n",
              "      <td>Skills * Programming Languages: Python (pandas...</td>\n",
              "    </tr>\n",
              "    <tr>\n",
              "      <th>1</th>\n",
              "      <td>Data Science</td>\n",
              "      <td>Education Details \\r\\nMay 2013 to May 2017 B.E...</td>\n",
              "    </tr>\n",
              "    <tr>\n",
              "      <th>2</th>\n",
              "      <td>Data Science</td>\n",
              "      <td>Areas of Interest Deep Learning, Control Syste...</td>\n",
              "    </tr>\n",
              "    <tr>\n",
              "      <th>3</th>\n",
              "      <td>Data Science</td>\n",
              "      <td>Skills â¢ R â¢ Python â¢ SAP HANA â¢ Table...</td>\n",
              "    </tr>\n",
              "    <tr>\n",
              "      <th>4</th>\n",
              "      <td>Data Science</td>\n",
              "      <td>Education Details \\r\\n MCA   YMCAUST,  Faridab...</td>\n",
              "    </tr>\n",
              "  </tbody>\n",
              "</table>\n",
              "</div>\n",
              "      <button class=\"colab-df-convert\" onclick=\"convertToInteractive('df-f3a85f8f-99a4-4232-8e5d-77290f11115c')\"\n",
              "              title=\"Convert this dataframe to an interactive table.\"\n",
              "              style=\"display:none;\">\n",
              "        \n",
              "  <svg xmlns=\"http://www.w3.org/2000/svg\" height=\"24px\"viewBox=\"0 0 24 24\"\n",
              "       width=\"24px\">\n",
              "    <path d=\"M0 0h24v24H0V0z\" fill=\"none\"/>\n",
              "    <path d=\"M18.56 5.44l.94 2.06.94-2.06 2.06-.94-2.06-.94-.94-2.06-.94 2.06-2.06.94zm-11 1L8.5 8.5l.94-2.06 2.06-.94-2.06-.94L8.5 2.5l-.94 2.06-2.06.94zm10 10l.94 2.06.94-2.06 2.06-.94-2.06-.94-.94-2.06-.94 2.06-2.06.94z\"/><path d=\"M17.41 7.96l-1.37-1.37c-.4-.4-.92-.59-1.43-.59-.52 0-1.04.2-1.43.59L10.3 9.45l-7.72 7.72c-.78.78-.78 2.05 0 2.83L4 21.41c.39.39.9.59 1.41.59.51 0 1.02-.2 1.41-.59l7.78-7.78 2.81-2.81c.8-.78.8-2.07 0-2.86zM5.41 20L4 18.59l7.72-7.72 1.47 1.35L5.41 20z\"/>\n",
              "  </svg>\n",
              "      </button>\n",
              "      \n",
              "  <style>\n",
              "    .colab-df-container {\n",
              "      display:flex;\n",
              "      flex-wrap:wrap;\n",
              "      gap: 12px;\n",
              "    }\n",
              "\n",
              "    .colab-df-convert {\n",
              "      background-color: #E8F0FE;\n",
              "      border: none;\n",
              "      border-radius: 50%;\n",
              "      cursor: pointer;\n",
              "      display: none;\n",
              "      fill: #1967D2;\n",
              "      height: 32px;\n",
              "      padding: 0 0 0 0;\n",
              "      width: 32px;\n",
              "    }\n",
              "\n",
              "    .colab-df-convert:hover {\n",
              "      background-color: #E2EBFA;\n",
              "      box-shadow: 0px 1px 2px rgba(60, 64, 67, 0.3), 0px 1px 3px 1px rgba(60, 64, 67, 0.15);\n",
              "      fill: #174EA6;\n",
              "    }\n",
              "\n",
              "    [theme=dark] .colab-df-convert {\n",
              "      background-color: #3B4455;\n",
              "      fill: #D2E3FC;\n",
              "    }\n",
              "\n",
              "    [theme=dark] .colab-df-convert:hover {\n",
              "      background-color: #434B5C;\n",
              "      box-shadow: 0px 1px 3px 1px rgba(0, 0, 0, 0.15);\n",
              "      filter: drop-shadow(0px 1px 2px rgba(0, 0, 0, 0.3));\n",
              "      fill: #FFFFFF;\n",
              "    }\n",
              "  </style>\n",
              "\n",
              "      <script>\n",
              "        const buttonEl =\n",
              "          document.querySelector('#df-f3a85f8f-99a4-4232-8e5d-77290f11115c button.colab-df-convert');\n",
              "        buttonEl.style.display =\n",
              "          google.colab.kernel.accessAllowed ? 'block' : 'none';\n",
              "\n",
              "        async function convertToInteractive(key) {\n",
              "          const element = document.querySelector('#df-f3a85f8f-99a4-4232-8e5d-77290f11115c');\n",
              "          const dataTable =\n",
              "            await google.colab.kernel.invokeFunction('convertToInteractive',\n",
              "                                                     [key], {});\n",
              "          if (!dataTable) return;\n",
              "\n",
              "          const docLinkHtml = 'Like what you see? Visit the ' +\n",
              "            '<a target=\"_blank\" href=https://colab.research.google.com/notebooks/data_table.ipynb>data table notebook</a>'\n",
              "            + ' to learn more about interactive tables.';\n",
              "          element.innerHTML = '';\n",
              "          dataTable['output_type'] = 'display_data';\n",
              "          await google.colab.output.renderOutput(dataTable, element);\n",
              "          const docLink = document.createElement('div');\n",
              "          docLink.innerHTML = docLinkHtml;\n",
              "          element.appendChild(docLink);\n",
              "        }\n",
              "      </script>\n",
              "    </div>\n",
              "  </div>\n",
              "  "
            ],
            "text/plain": [
              "       Category                                             Resume\n",
              "0  Data Science  Skills * Programming Languages: Python (pandas...\n",
              "1  Data Science  Education Details \\r\\nMay 2013 to May 2017 B.E...\n",
              "2  Data Science  Areas of Interest Deep Learning, Control Syste...\n",
              "3  Data Science  Skills â¢ R â¢ Python â¢ SAP HANA â¢ Table...\n",
              "4  Data Science  Education Details \\r\\n MCA   YMCAUST,  Faridab..."
            ]
          },
          "execution_count": 268,
          "metadata": {},
          "output_type": "execute_result"
        }
      ],
      "source": [
        "df.head()"
      ]
    },
    {
      "cell_type": "code",
      "execution_count": null,
      "metadata": {
        "colab": {
          "base_uri": "https://localhost:8080/"
        },
        "id": "U9HgfwuwKnU8",
        "outputId": "d80e2853-885f-4b4b-9336-e4a2140142cb"
      },
      "outputs": [
        {
          "name": "stdout",
          "output_type": "stream",
          "text": [
            "<class 'pandas.core.frame.DataFrame'>\n",
            "Int64Index: 962 entries, 37 to 70\n",
            "Data columns (total 13 columns):\n",
            " #   Column               Non-Null Count  Dtype \n",
            "---  ------               --------------  ----- \n",
            " 0   Category             962 non-null    object\n",
            " 1   Resume               962 non-null    object\n",
            " 2   info                 962 non-null    object\n",
            " 3   clean_punc           962 non-null    object\n",
            " 4   after_tokenization   962 non-null    object\n",
            " 5   after_pos_tagging    962 non-null    object\n",
            " 6   remove_sw            962 non-null    object\n",
            " 7   after_lemmatization  962 non-null    object\n",
            " 8   noun_phrases         962 non-null    object\n",
            " 9   verb_forms           962 non-null    object\n",
            " 10  named_entities       962 non-null    object\n",
            " 11  total_words          962 non-null    object\n",
            " 12  skills_matched       962 non-null    int64 \n",
            "dtypes: int64(1), object(12)\n",
            "memory usage: 105.2+ KB\n"
          ]
        }
      ],
      "source": [
        "df.info()"
      ]
    },
    {
      "cell_type": "markdown",
      "metadata": {
        "id": "L_zhr8ofKsJs"
      },
      "source": [
        "# There are total 962 records in dataset without any null values and the column names are **Category,Resume**"
      ]
    },
    {
      "cell_type": "markdown",
      "metadata": {
        "id": "j3RvetcOLF7N"
      },
      "source": [
        "# Description about columns\n",
        "\n",
        "1. Category =  It describes about the role/field of the job which the      applicants are insterested in\n",
        "\n",
        "2. Resume   =  It consists of the skills mentioned by the candidates"
      ]
    },
    {
      "cell_type": "code",
      "execution_count": null,
      "metadata": {
        "colab": {
          "base_uri": "https://localhost:8080/"
        },
        "id": "paTasOrQpVNp",
        "outputId": "e525c3db-c681-4dbe-c95f-649e8bd364cb"
      },
      "outputs": [
        {
          "data": {
            "text/plain": [
              "Java Developer               84\n",
              "Testing                      70\n",
              "DevOps Engineer              55\n",
              "Python Developer             48\n",
              "Web Designing                45\n",
              "HR                           44\n",
              "Hadoop                       42\n",
              "Blockchain                   40\n",
              "Sales                        40\n",
              "Data Science                 40\n",
              "ETL Developer                40\n",
              "Mechanical Engineer          40\n",
              "Operations Manager           40\n",
              "Arts                         36\n",
              "Database                     33\n",
              "Electrical Engineering       30\n",
              "PMO                          30\n",
              "Health and fitness           30\n",
              "Business Analyst             28\n",
              "DotNet Developer             28\n",
              "Automation Testing           26\n",
              "Network Security Engineer    25\n",
              "SAP Developer                24\n",
              "Civil Engineer               24\n",
              "Advocate                     20\n",
              "Name: Category, dtype: int64"
            ]
          },
          "execution_count": 291,
          "metadata": {},
          "output_type": "execute_result"
        }
      ],
      "source": [
        "df['Category'].value_counts()"
      ]
    },
    {
      "cell_type": "code",
      "execution_count": null,
      "metadata": {
        "colab": {
          "base_uri": "https://localhost:8080/"
        },
        "id": "PK1w2rr7MsL8",
        "outputId": "57d360dd-8da4-4927-e601-24605f60f585"
      },
      "outputs": [
        {
          "data": {
            "text/plain": [
              "25"
            ]
          },
          "execution_count": 292,
          "metadata": {},
          "output_type": "execute_result"
        }
      ],
      "source": [
        "len(df['Category'].value_counts())"
      ]
    },
    {
      "cell_type": "markdown",
      "metadata": {
        "id": "Xe5_hdaQ1_-Q"
      },
      "source": [
        "# Bar plot to visualize the resume count in each category"
      ]
    },
    {
      "cell_type": "code",
      "execution_count": null,
      "metadata": {
        "colab": {
          "base_uri": "https://localhost:8080/",
          "height": 213
        },
        "id": "codBdRtC2Kj9",
        "outputId": "f67c5e6a-5bc8-46af-91ae-058eeb068349"
      },
      "outputs": [
        {
          "data": {
            "text/plain": [
              "Text(0, 0.5, 'count')"
            ]
          },
          "execution_count": 270,
          "metadata": {},
          "output_type": "execute_result"
        },
        {
          "data": {
            "image/png": "[encoded data removed]",
            "text/plain": [
              "<Figure size 3960x720 with 1 Axes>"
            ]
          },
          "metadata": {
            "needs_background": "light"
          },
          "output_type": "display_data"
        }
      ],
      "source": [
        "fig=plt.figure(figsize=(55,10))\n",
        "plt.bar(df['Category'].value_counts().keys(),df['Category'].value_counts().values,width=0.4)\n",
        "plt.xlabel('Categories')\n",
        "plt.ylabel('count')"
      ]
    },
    {
      "cell_type": "markdown",
      "metadata": {
        "id": "EBMBu3miLz9G"
      },
      "source": [
        "# Observation in Category-wise bar chart\n",
        "\n",
        "* Candidates are mostly mentioned in the resume as Java Developers & Testing followed by Devops\n",
        "* Data Science is in 11th place out of 25 . There are only 40 records Iin Data Science Category\n",
        "* Resumes in Advocate category occupies the last place ( 20 records )"
      ]
    },
    {
      "cell_type": "markdown",
      "metadata": {
        "id": "h6GbjQi27KB-"
      },
      "source": [
        "# Merging Category and Resume column for finding matching words and phrases"
      ]
    },
    {
      "cell_type": "code",
      "execution_count": null,
      "metadata": {
        "id": "UB3eFT7wUZR6"
      },
      "outputs": [],
      "source": []
    },
    {
      "cell_type": "code",
      "execution_count": null,
      "metadata": {
        "id": "W7L2ta647Xtz"
      },
      "outputs": [],
      "source": [
        "df['info']=df['Category']+' '+df['Resume']"
      ]
    },
    {
      "cell_type": "markdown",
      "metadata": {
        "id": "3ar8xKJkRxCw"
      },
      "source": [
        "# Removing Punctuations in newly creating info column"
      ]
    },
    {
      "cell_type": "code",
      "execution_count": null,
      "metadata": {
        "id": "vtU11-f5RjzJ"
      },
      "outputs": [],
      "source": [
        "def remove_punc(text):\n",
        "  text_nonpunc=''.join([char for char in text if char not in string.punctuation])\n",
        "  return text_nonpunc\n",
        "df['clean_punc']=df['info'].apply(lambda x:remove_punc(x))\n",
        "df.to_csv('after_remove_punc',index=False)"
      ]
    },
    {
      "cell_type": "markdown",
      "metadata": {
        "id": "QtfoCPpgTkd8"
      },
      "source": [
        "# Tokenization"
      ]
    },
    {
      "cell_type": "code",
      "execution_count": null,
      "metadata": {
        "id": "gY0TounQTp2Y"
      },
      "outputs": [],
      "source": [
        "def token(text):\n",
        "  tokens=re.split('\\W+',text)\n",
        "  return tokens\n",
        "df['after_tokenization']=df['info'].apply(lambda x:token(x))\n",
        "df.to_csv('after_tokenization.csv',index=False)"
      ]
    },
    {
      "cell_type": "markdown",
      "metadata": {
        "id": "_jsktOXHVYyw"
      },
      "source": [
        "# pos tagging"
      ]
    },
    {
      "cell_type": "code",
      "execution_count": null,
      "metadata": {
        "id": "dJis-2e9Uu_n"
      },
      "outputs": [],
      "source": [
        "from nltk import pos_tag\n",
        "def pos_tag(text):\n",
        "  pos_text=nltk.pos_tag(text)\n",
        "  return pos_text\n",
        "df['after_pos_tagging']=df['after_tokenization'].apply(lambda x:pos_tag(x))\n",
        "df.to_csv('after_pos_tagging.csv',index=False)"
      ]
    },
    {
      "cell_type": "markdown",
      "metadata": {
        "id": "2VHzWUGfYqhS"
      },
      "source": [
        "# Removing stopwords"
      ]
    },
    {
      "cell_type": "code",
      "execution_count": null,
      "metadata": {
        "id": "TTbK5zqDYua4"
      },
      "outputs": [],
      "source": [
        "stop_words=set(stopwords.words('english'))\n",
        "def remove_stopword(text):\n",
        "  re_sw=[word for word in text if word not in stop_words]\n",
        "  return re_sw\n",
        "df['remove_sw']=df['after_tokenization'].apply(lambda x:remove_stopword(x))\n",
        "df.to_csv('after_re_sw.csv',index=False)"
      ]
    },
    {
      "cell_type": "markdown",
      "metadata": {
        "id": "RaN_YDuIo7vv"
      },
      "source": [
        "# Lemmatization"
      ]
    },
    {
      "cell_type": "code",
      "execution_count": null,
      "metadata": {
        "id": "SeSKEkCqo--W"
      },
      "outputs": [],
      "source": [
        "ln=nltk.WordNetLemmatizer()\n",
        "def lemm(text):\n",
        "  z=[ln.lemmatize(word) for word in text]\n",
        "  return z\n",
        "df['after_lemmatization']=df['remove_sw'].apply(lambda x:lemm(x))\n",
        "df.to_csv('after_lemmatization.csv',index=False)"
      ]
    },
    {
      "cell_type": "code",
      "execution_count": null,
      "metadata": {
        "id": "rMRYzLsFurcw"
      },
      "outputs": [],
      "source": [
        "nlp = spacy.load(\"en_core_web_sm\")"
      ]
    },
    {
      "cell_type": "markdown",
      "metadata": {
        "id": "84KLHmhwwyHs"
      },
      "source": [
        "# Displaying Noun phrases in each column"
      ]
    },
    {
      "cell_type": "code",
      "execution_count": null,
      "metadata": {
        "colab": {
          "base_uri": "https://localhost:8080/"
        },
        "id": "wm0EZ6vJw9fK",
        "outputId": "e19e37af-1c4b-4f4a-90fe-c8fb00195af6"
      },
      "outputs": [
        {
          "data": {
            "text/plain": [
              "0      [Data Science Skills Programming Languages Pyt...\n",
              "1      [Data Science Education Details, Statsmodels E...\n",
              "2      [Data Science Areas Interest, Design Programmi...\n",
              "3      [Data Science Skills â R â Python, SAP, Tablea...\n",
              "4      [Skill Details Data Structure, Exprience, Less...\n",
              "                             ...                        \n",
              "957    [Testing Computer Skills â Proficient MS offic...\n",
              "958    [Testing â Willingness, challenge, Positive th...\n",
              "959    [Testing PERSONAL, SKILLS, â Quick learner, â ...\n",
              "960    [Testing COMPUTER SKILLS SOFTWARE KNOWLEDGE MS...\n",
              "961    [Testing Skill Set, Windows XP, 7 8 8 1 10 Dat...\n",
              "Name: noun_phrases, Length: 962, dtype: object"
            ]
          },
          "execution_count": 278,
          "metadata": {},
          "output_type": "execute_result"
        }
      ],
      "source": [
        "def noun_phrases(text):\n",
        "  x=' '.join([y for y in text])\n",
        "  doc=nlp(x)\n",
        "  return [chunk.text for chunk in doc.noun_chunks]\n",
        "df['noun_phrases']=df['after_lemmatization'].apply(lambda x:noun_phrases(x))\n",
        "df['noun_phrases']"
      ]
    },
    {
      "cell_type": "markdown",
      "metadata": {
        "id": "eozPZpFA10VY"
      },
      "source": [
        "# Displaying Verb forms in each column"
      ]
    },
    {
      "cell_type": "code",
      "execution_count": null,
      "metadata": {
        "colab": {
          "base_uri": "https://localhost:8080/"
        },
        "id": "t2hp9CSQ1-O7",
        "outputId": "1d0a9bcc-77e0-4014-e088-469aec431d0f"
      },
      "outputs": [
        {
          "data": {
            "text/plain": [
              "0      [scipy, learn, learn, boost, embed, assist, ac...\n",
              "1      [learn, matelab, develop, deploy, miss, deploy...\n",
              "2      [excel, work, base, disclose, need, base, brin...\n",
              "3      [learn, involve, analyse, come, give, carry, p...\n",
              "4                                                     []\n",
              "                             ...                        \n",
              "957    [work, motivate, EXCEL, â, check, follow, cond...\n",
              "958    [test, accept, declare, mention, bear, mention...\n",
              "959    [test, learn, personal, conduct, prepare, set,...\n",
              "960              [test, wind, nternet, use, use, DESIGN]\n",
              "961    [os, report, handle, testing, test, analyze, p...\n",
              "Name: verb_forms, Length: 962, dtype: object"
            ]
          },
          "execution_count": 279,
          "metadata": {},
          "output_type": "execute_result"
        }
      ],
      "source": [
        "def verb_forms(text):\n",
        "  x=' '.join([y for y in text])\n",
        "  doc=nlp(x)\n",
        "  return [token.lemma_ for token in doc if token.pos_ == \"VERB\"]\n",
        "df['verb_forms']=df['after_lemmatization'].apply(lambda x:verb_forms(x))\n",
        "df['verb_forms']"
      ]
    },
    {
      "cell_type": "markdown",
      "metadata": {
        "id": "zu23RJUr37IP"
      },
      "source": [
        "# Displaying named entities"
      ]
    },
    {
      "cell_type": "code",
      "execution_count": null,
      "metadata": {
        "colab": {
          "base_uri": "https://localhost:8080/"
        },
        "id": "wBL1CoZ_4Av1",
        "outputId": "27fac751-ff1a-4758-d993-35b5d27dcb97"
      },
      "outputs": [
        {
          "data": {
            "text/plain": [
              "0      [Data Science Skills Programming Languages Pyt...\n",
              "1      [May 2013, May 2017, 1 year month, Exprience, ...\n",
              "2      [Hindustan Aeronautics Limited Bangalore, 4 we...\n",
              "3      [Advance Analytics, Social Media Analytics, NL...\n",
              "4      [Faridabad Haryana Data Science, Skill Details...\n",
              "                             ...                        \n",
              "957    [Singh College Engineering Research Centre Dip...\n",
              "958    [June 2015, Kolhapur Maharashtra, June 2012, 1...\n",
              "959    [Eagerness, Competitive, Dhanraj WaghEducation...\n",
              "960    [Power Point MS Office C Protius PCB, Matlab K...\n",
              "961    [Database MYSQL, 2005, 2008, 2012, Languages C...\n",
              "Name: named_entities, Length: 962, dtype: object"
            ]
          },
          "execution_count": 280,
          "metadata": {},
          "output_type": "execute_result"
        }
      ],
      "source": [
        "def named_entities(text):\n",
        "  x=' '.join([y for y in text])\n",
        "  doc=nlp(x)\n",
        "  return [entity.text for entity in doc.ents]\n",
        "df['named_entities']=df['after_lemmatization'].apply(lambda x:named_entities(x))\n",
        "df['named_entities']"
      ]
    },
    {
      "cell_type": "markdown",
      "metadata": {
        "id": "RM48MRws8to2"
      },
      "source": [
        "# Merging noun phrases,verb forms,named entities as a single column to find the matched words & phrases"
      ]
    },
    {
      "cell_type": "code",
      "execution_count": null,
      "metadata": {
        "colab": {
          "base_uri": "https://localhost:8080/"
        },
        "id": "jq2Ai70X89kX",
        "outputId": "56941d78-a691-43ba-ad9d-a9720ec03a0b"
      },
      "outputs": [
        {
          "data": {
            "text/plain": [
              "0      {organizations, product, question, feedback, t...\n",
              "1      {paper, dimensionality, month, platform, ml, m...\n",
              "2      {satish, electrical, month, xampp, disclose, j...\n",
              "3      {database, month, crm, deloitte, foods, januar...\n",
              "4      {itechpower, science, database, month, skill, ...\n",
              "                             ...                        \n",
              "957    {electrical, month, crm, powai, basic, creativ...\n",
              "958    {acceptance, product, month, analyze, 2012, co...\n",
              "959    {rajapur, ctr, product, successfully, analyze,...\n",
              "960    {design, heart, university, 6, system, educati...\n",
              "961    {database, month, analyze, 2012, â, factory, a...\n",
              "Name: total_words, Length: 962, dtype: object"
            ]
          },
          "execution_count": 281,
          "metadata": {},
          "output_type": "execute_result"
        }
      ],
      "source": [
        "def string(text):\n",
        "  return set(' '.join([char for char in text]).lower().split(' '))\n",
        "df['total_words']=(df['noun_phrases']+df['verb_forms']+df['named_entities']).apply(lambda x:string(x))\n",
        "df['total_words']"
      ]
    },
    {
      "cell_type": "code",
      "execution_count": null,
      "metadata": {
        "colab": {
          "base_uri": "https://localhost:8080/"
        },
        "id": "FyhLXp1GvhEG",
        "outputId": "befa2d7e-5a3a-4ad0-ef96-db82fb519726"
      },
      "outputs": [
        {
          "data": {
            "text/plain": [
              "{'24',\n",
              " '4',\n",
              " '6',\n",
              " 'accelerate',\n",
              " 'accounting',\n",
              " 'action',\n",
              " 'address',\n",
              " 'advanced',\n",
              " 'analysis',\n",
              " 'analytic',\n",
              " 'analytics',\n",
              " 'analyze',\n",
              " 'angular',\n",
              " 'anomaly',\n",
              " 'answer',\n",
              " 'ask',\n",
              " 'assist',\n",
              " 'assisted',\n",
              " 'associate',\n",
              " 'assurance',\n",
              " 'automate',\n",
              " 'automated',\n",
              " 'automating',\n",
              " 'base',\n",
              " 'based',\n",
              " 'bayes',\n",
              " 'boost',\n",
              " 'bootstrap',\n",
              " 'bot',\n",
              " 'build',\n",
              " 'case',\n",
              " 'cassandra',\n",
              " 'category',\n",
              " 'chain',\n",
              " 'chat',\n",
              " 'chatbot',\n",
              " 'classification',\n",
              " 'classifier',\n",
              " 'client',\n",
              " 'clients',\n",
              " 'cloud',\n",
              " 'cluster',\n",
              " 'code',\n",
              " 'coding',\n",
              " 'comment',\n",
              " 'company',\n",
              " 'computer',\n",
              " 'content',\n",
              " 'core',\n",
              " 'cosine',\n",
              " 'cost',\n",
              " 'counter',\n",
              " 'create',\n",
              " 'created',\n",
              " 'css',\n",
              " 'customer',\n",
              " 'customize',\n",
              " 'customized',\n",
              " 'cv',\n",
              " 'd3',\n",
              " 'dashboard',\n",
              " 'data',\n",
              " 'dc',\n",
              " 'decision',\n",
              " 'deep',\n",
              " 'description',\n",
              " 'details',\n",
              " 'develop',\n",
              " 'developed',\n",
              " 'development',\n",
              " 'different',\n",
              " 'discovery',\n",
              " 'dispute',\n",
              " 'doc2vec',\n",
              " 'docker',\n",
              " 'domain',\n",
              " 'e',\n",
              " 'education',\n",
              " 'effective',\n",
              " 'elastic',\n",
              " 'elasticsearch',\n",
              " 'embed',\n",
              " 'end',\n",
              " 'ensure',\n",
              " 'entire',\n",
              " 'ernst',\n",
              " 'erp',\n",
              " 'evidence',\n",
              " 'expression',\n",
              " 'exprience',\n",
              " 'extract',\n",
              " 'extracted',\n",
              " 'ey',\n",
              " 'facilitate',\n",
              " 'fap',\n",
              " 'feedback',\n",
              " 'file',\n",
              " 'flag',\n",
              " 'flask',\n",
              " 'flow',\n",
              " 'follow',\n",
              " 'format',\n",
              " 'fraud',\n",
              " 'frequency',\n",
              " 'friendly',\n",
              " 'full',\n",
              " 'generate',\n",
              " 'ggplot',\n",
              " 'git',\n",
              " 'give',\n",
              " 'governance',\n",
              " 'handle',\n",
              " 'hbase',\n",
              " 'heat',\n",
              " 'help',\n",
              " 'hour',\n",
              " 'html',\n",
              " 'identifiable',\n",
              " 'identify',\n",
              " 'implement',\n",
              " 'inbuilt',\n",
              " 'indicator',\n",
              " 'information',\n",
              " 'informed',\n",
              " 'integrated',\n",
              " 'intelligence',\n",
              " 'interactive',\n",
              " 'interrogate',\n",
              " 'investigations',\n",
              " 'investigative',\n",
              " 'issue',\n",
              " 'it',\n",
              " 'j',\n",
              " 'java',\n",
              " 'javascript',\n",
              " 'jquery',\n",
              " 'kafka',\n",
              " 'kibana',\n",
              " 'knn',\n",
              " 'labor',\n",
              " 'language',\n",
              " 'languages',\n",
              " 'lawyer',\n",
              " 'lda',\n",
              " 'learn',\n",
              " 'learning',\n",
              " 'llp',\n",
              " 'logstash',\n",
              " 'make',\n",
              " 'manager',\n",
              " 'map',\n",
              " 'matplot',\n",
              " 'matplotlib',\n",
              " 'member',\n",
              " 'meta',\n",
              " 'method',\n",
              " 'mining',\n",
              " 'model',\n",
              " 'modelling',\n",
              " 'monitor',\n",
              " 'month',\n",
              " 'monthscompany',\n",
              " 'motor',\n",
              " 'multiple',\n",
              " 'name',\n",
              " 'natural',\n",
              " 'naã',\n",
              " 'negative',\n",
              " 'neutral',\n",
              " 'nltk',\n",
              " 'nmf',\n",
              " 'node',\n",
              " 'number',\n",
              " 'numpy',\n",
              " 'one',\n",
              " 'open',\n",
              " 'operation',\n",
              " 'option',\n",
              " 'order',\n",
              " 'organization',\n",
              " 'organizations',\n",
              " 'others',\n",
              " 'outdated',\n",
              " 'output',\n",
              " 'overview',\n",
              " 'panda',\n",
              " 'parse',\n",
              " 'perform',\n",
              " 'performed',\n",
              " 'personally',\n",
              " 'pii',\n",
              " 'platform',\n",
              " 'plot',\n",
              " 'plotly',\n",
              " 'portfolio',\n",
              " 'position',\n",
              " 'positive',\n",
              " 'precision',\n",
              " 'predefine',\n",
              " 'predefined',\n",
              " 'predictive',\n",
              " 'preform',\n",
              " 'preforming',\n",
              " 'present',\n",
              " 'process',\n",
              " 'processing',\n",
              " 'product',\n",
              " 'products',\n",
              " 'programming',\n",
              " 'projects',\n",
              " 'push',\n",
              " 'python',\n",
              " 'qa',\n",
              " 'question',\n",
              " 'receive',\n",
              " 'recommend',\n",
              " 'recommendation',\n",
              " 'recommended',\n",
              " 'red',\n",
              " 'reduce',\n",
              " 'reduced',\n",
              " 'redundant',\n",
              " 'regression',\n",
              " 'regular',\n",
              " 'relate',\n",
              " 'related',\n",
              " 'relevant',\n",
              " 'report',\n",
              " 'reporting',\n",
              " 'requirement',\n",
              " 'research',\n",
              " 'reservation',\n",
              " 'response',\n",
              " 'result',\n",
              " 'review',\n",
              " 'risk',\n",
              " 'rot',\n",
              " 'run',\n",
              " 'scan',\n",
              " 'science',\n",
              " 'scikit',\n",
              " 'scipy',\n",
              " 'scratch',\n",
              " 'search',\n",
              " 'security',\n",
              " 'sentiment',\n",
              " 'serf',\n",
              " 'series',\n",
              " 'services',\n",
              " 'similarity',\n",
              " 'simple',\n",
              " 'skill',\n",
              " 'skills',\n",
              " 'social',\n",
              " 'solution',\n",
              " 'source',\n",
              " 'spacy',\n",
              " 'spend',\n",
              " 'sql',\n",
              " 'sqlserver',\n",
              " 'standard',\n",
              " 'store',\n",
              " 'suite',\n",
              " 'survey',\n",
              " 'svm',\n",
              " 'synthesize',\n",
              " 'system',\n",
              " 'tableau',\n",
              " 'tag',\n",
              " 'tar',\n",
              " 'target',\n",
              " 'team',\n",
              " 'technique',\n",
              " 'technologies',\n",
              " 'technology',\n",
              " 'term',\n",
              " 'text',\n",
              " 'tfidf',\n",
              " 'the',\n",
              " 'this',\n",
              " 'time',\n",
              " 'tool',\n",
              " 'tools',\n",
              " 'topic',\n",
              " 'trivial',\n",
              " 'understand',\n",
              " 'understanding',\n",
              " 'unstructured',\n",
              " 'usa',\n",
              " 'use',\n",
              " 'user',\n",
              " 'vader',\n",
              " 'various',\n",
              " 'vehicle',\n",
              " 'vision',\n",
              " 'visualization',\n",
              " 'word',\n",
              " 'work',\n",
              " 'worked',\n",
              " 'year',\n",
              " 'young'}"
            ]
          },
          "execution_count": 282,
          "metadata": {},
          "output_type": "execute_result"
        }
      ],
      "source": [
        "df['total_words'][0]"
      ]
    },
    {
      "cell_type": "markdown",
      "metadata": {
        "id": "DFxRpWAwuGxm"
      },
      "source": [
        "# Creating the no of skills matching column in each resume"
      ]
    },
    {
      "cell_type": "code",
      "execution_count": null,
      "metadata": {
        "colab": {
          "base_uri": "https://localhost:8080/",
          "height": 1000
        },
        "id": "bjkFzV3Kk1h4",
        "outputId": "c23055c2-04aa-47b4-b7a8-953dcbfe68de"
      },
      "outputs": [
        {
          "data": {
            "text/html": [
              "\n",
              "  <div id=\"df-5255d2b6-53df-4bb1-8dd2-a3681b7eeedd\">\n",
              "    <div class=\"colab-df-container\">\n",
              "      <div>\n",
              "<style scoped>\n",
              "    .dataframe tbody tr th:only-of-type {\n",
              "        vertical-align: middle;\n",
              "    }\n",
              "\n",
              "    .dataframe tbody tr th {\n",
              "        vertical-align: top;\n",
              "    }\n",
              "\n",
              "    .dataframe thead th {\n",
              "        text-align: right;\n",
              "    }\n",
              "</style>\n",
              "<table border=\"1\" class=\"dataframe\">\n",
              "  <thead>\n",
              "    <tr style=\"text-align: right;\">\n",
              "      <th></th>\n",
              "      <th>Category</th>\n",
              "      <th>Resume</th>\n",
              "      <th>info</th>\n",
              "      <th>clean_punc</th>\n",
              "      <th>after_tokenization</th>\n",
              "      <th>after_pos_tagging</th>\n",
              "      <th>remove_sw</th>\n",
              "      <th>after_lemmatization</th>\n",
              "      <th>noun_phrases</th>\n",
              "      <th>verb_forms</th>\n",
              "      <th>named_entities</th>\n",
              "      <th>total_words</th>\n",
              "      <th>skills_matched</th>\n",
              "    </tr>\n",
              "  </thead>\n",
              "  <tbody>\n",
              "    <tr>\n",
              "      <th>0</th>\n",
              "      <td>Data Science</td>\n",
              "      <td>Skills * Programming Languages: Python (pandas...</td>\n",
              "      <td>Data Science Skills * Programming Languages: P...</td>\n",
              "      <td>Data Science Skills  Programming Languages Pyt...</td>\n",
              "      <td>[Data, Science, Skills, Programming, Languages...</td>\n",
              "      <td>[(Data, NNP), (Science, NNP), (Skills, NNP), (...</td>\n",
              "      <td>[Data, Science, Skills, Programming, Languages...</td>\n",
              "      <td>[Data, Science, Skills, Programming, Languages...</td>\n",
              "      <td>[Data Science Skills Programming Languages Pyt...</td>\n",
              "      <td>[scipy, learn, learn, boost, embed, assist, ac...</td>\n",
              "      <td>[Data Science Skills Programming Languages Pyt...</td>\n",
              "      <td>{organizations, product, question, feedback, t...</td>\n",
              "      <td>46</td>\n",
              "    </tr>\n",
              "    <tr>\n",
              "      <th>1</th>\n",
              "      <td>Data Science</td>\n",
              "      <td>Education Details \\r\\nMay 2013 to May 2017 B.E...</td>\n",
              "      <td>Data Science Education Details \\r\\nMay 2013 to...</td>\n",
              "      <td>Data Science Education Details \\r\\nMay 2013 to...</td>\n",
              "      <td>[Data, Science, Education, Details, May, 2013,...</td>\n",
              "      <td>[(Data, NNP), (Science, NNP), (Education, NNP)...</td>\n",
              "      <td>[Data, Science, Education, Details, May, 2013,...</td>\n",
              "      <td>[Data, Science, Education, Details, May, 2013,...</td>\n",
              "      <td>[Data Science Education Details, Statsmodels E...</td>\n",
              "      <td>[learn, matelab, develop, deploy, miss, deploy...</td>\n",
              "      <td>[May 2013, May 2017, 1 year month, Exprience, ...</td>\n",
              "      <td>{paper, dimensionality, month, platform, ml, m...</td>\n",
              "      <td>11</td>\n",
              "    </tr>\n",
              "    <tr>\n",
              "      <th>2</th>\n",
              "      <td>Data Science</td>\n",
              "      <td>Areas of Interest Deep Learning, Control Syste...</td>\n",
              "      <td>Data Science Areas of Interest Deep Learning, ...</td>\n",
              "      <td>Data Science Areas of Interest Deep Learning C...</td>\n",
              "      <td>[Data, Science, Areas, of, Interest, Deep, Lea...</td>\n",
              "      <td>[(Data, NNP), (Science, NNP), (Areas, NNP), (o...</td>\n",
              "      <td>[Data, Science, Areas, Interest, Deep, Learnin...</td>\n",
              "      <td>[Data, Science, Areas, Interest, Deep, Learnin...</td>\n",
              "      <td>[Data Science Areas Interest, Design Programmi...</td>\n",
              "      <td>[excel, work, base, disclose, need, base, brin...</td>\n",
              "      <td>[Hindustan Aeronautics Limited Bangalore, 4 we...</td>\n",
              "      <td>{satish, electrical, month, xampp, disclose, j...</td>\n",
              "      <td>17</td>\n",
              "    </tr>\n",
              "    <tr>\n",
              "      <th>3</th>\n",
              "      <td>Data Science</td>\n",
              "      <td>Skills â¢ R â¢ Python â¢ SAP HANA â¢ Table...</td>\n",
              "      <td>Data Science Skills â¢ R â¢ Python â¢ SAP H...</td>\n",
              "      <td>Data Science Skills â¢ R â¢ Python â¢ SAP H...</td>\n",
              "      <td>[Data, Science, Skills, â, R, â, Python, â, SA...</td>\n",
              "      <td>[(Data, NNP), (Science, NNP), (Skills, NNP), (...</td>\n",
              "      <td>[Data, Science, Skills, â, R, â, Python, â, SA...</td>\n",
              "      <td>[Data, Science, Skills, â, R, â, Python, â, SA...</td>\n",
              "      <td>[Data Science Skills â R â Python, SAP, Tablea...</td>\n",
              "      <td>[learn, involve, analyse, come, give, carry, p...</td>\n",
              "      <td>[Advance Analytics, Social Media Analytics, NL...</td>\n",
              "      <td>{database, month, crm, deloitte, foods, januar...</td>\n",
              "      <td>48</td>\n",
              "    </tr>\n",
              "    <tr>\n",
              "      <th>4</th>\n",
              "      <td>Data Science</td>\n",
              "      <td>Education Details \\r\\n MCA   YMCAUST,  Faridab...</td>\n",
              "      <td>Data Science Education Details \\r\\n MCA   YMCA...</td>\n",
              "      <td>Data Science Education Details \\r\\n MCA   YMCA...</td>\n",
              "      <td>[Data, Science, Education, Details, MCA, YMCAU...</td>\n",
              "      <td>[(Data, NNP), (Science, NNP), (Education, NNP)...</td>\n",
              "      <td>[Data, Science, Education, Details, MCA, YMCAU...</td>\n",
              "      <td>[Data, Science, Education, Details, MCA, YMCAU...</td>\n",
              "      <td>[Skill Details Data Structure, Exprience, Less...</td>\n",
              "      <td>[]</td>\n",
              "      <td>[Faridabad Haryana Data Science, Skill Details...</td>\n",
              "      <td>{itechpower, science, database, month, skill, ...</td>\n",
              "      <td>10</td>\n",
              "    </tr>\n",
              "    <tr>\n",
              "      <th>...</th>\n",
              "      <td>...</td>\n",
              "      <td>...</td>\n",
              "      <td>...</td>\n",
              "      <td>...</td>\n",
              "      <td>...</td>\n",
              "      <td>...</td>\n",
              "      <td>...</td>\n",
              "      <td>...</td>\n",
              "      <td>...</td>\n",
              "      <td>...</td>\n",
              "      <td>...</td>\n",
              "      <td>...</td>\n",
              "      <td>...</td>\n",
              "    </tr>\n",
              "    <tr>\n",
              "      <th>957</th>\n",
              "      <td>Testing</td>\n",
              "      <td>Computer Skills: â¢ Proficient in MS office (...</td>\n",
              "      <td>Testing Computer Skills: â¢ Proficient in MS ...</td>\n",
              "      <td>Testing Computer Skills â¢ Proficient in MS o...</td>\n",
              "      <td>[Testing, Computer, Skills, â, Proficient, in,...</td>\n",
              "      <td>[(Testing, VBG), (Computer, NNP), (Skills, NNP...</td>\n",
              "      <td>[Testing, Computer, Skills, â, Proficient, MS,...</td>\n",
              "      <td>[Testing, Computer, Skills, â, Proficient, MS,...</td>\n",
              "      <td>[Testing Computer Skills â Proficient MS offic...</td>\n",
              "      <td>[work, motivate, EXCEL, â, check, follow, cond...</td>\n",
              "      <td>[Singh College Engineering Research Centre Dip...</td>\n",
              "      <td>{electrical, month, crm, powai, basic, creativ...</td>\n",
              "      <td>10</td>\n",
              "    </tr>\n",
              "    <tr>\n",
              "      <th>958</th>\n",
              "      <td>Testing</td>\n",
              "      <td>â Willingness to accept the challenges. â ...</td>\n",
              "      <td>Testing â Willingness to accept the challeng...</td>\n",
              "      <td>Testing â Willingness to accept the challeng...</td>\n",
              "      <td>[Testing, â, Willingness, to, accept, the, cha...</td>\n",
              "      <td>[(Testing, VBG), (â, JJ), (Willingness, NNP), ...</td>\n",
              "      <td>[Testing, â, Willingness, accept, challenges, ...</td>\n",
              "      <td>[Testing, â, Willingness, accept, challenge, â...</td>\n",
              "      <td>[Testing â Willingness, challenge, Positive th...</td>\n",
              "      <td>[test, accept, declare, mention, bear, mention...</td>\n",
              "      <td>[June 2015, Kolhapur Maharashtra, June 2012, 1...</td>\n",
              "      <td>{acceptance, product, month, analyze, 2012, co...</td>\n",
              "      <td>18</td>\n",
              "    </tr>\n",
              "    <tr>\n",
              "      <th>959</th>\n",
              "      <td>Testing</td>\n",
              "      <td>PERSONAL SKILLS â¢ Quick learner, â¢ Eagerne...</td>\n",
              "      <td>Testing PERSONAL SKILLS â¢ Quick learner, â¢...</td>\n",
              "      <td>Testing PERSONAL SKILLS â¢ Quick learner â¢ ...</td>\n",
              "      <td>[Testing, PERSONAL, SKILLS, â, Quick, learner,...</td>\n",
              "      <td>[(Testing, VBG), (PERSONAL, NNP), (SKILLS, NNP...</td>\n",
              "      <td>[Testing, PERSONAL, SKILLS, â, Quick, learner,...</td>\n",
              "      <td>[Testing, PERSONAL, SKILLS, â, Quick, learner,...</td>\n",
              "      <td>[Testing PERSONAL, SKILLS, â Quick learner, â ...</td>\n",
              "      <td>[test, learn, personal, conduct, prepare, set,...</td>\n",
              "      <td>[Eagerness, Competitive, Dhanraj WaghEducation...</td>\n",
              "      <td>{rajapur, ctr, product, successfully, analyze,...</td>\n",
              "      <td>10</td>\n",
              "    </tr>\n",
              "    <tr>\n",
              "      <th>960</th>\n",
              "      <td>Testing</td>\n",
              "      <td>COMPUTER SKILLS &amp; SOFTWARE KNOWLEDGE MS-Power ...</td>\n",
              "      <td>Testing COMPUTER SKILLS &amp; SOFTWARE KNOWLEDGE M...</td>\n",
              "      <td>Testing COMPUTER SKILLS  SOFTWARE KNOWLEDGE MS...</td>\n",
              "      <td>[Testing, COMPUTER, SKILLS, SOFTWARE, KNOWLEDG...</td>\n",
              "      <td>[(Testing, VBG), (COMPUTER, NNP), (SKILLS, NNP...</td>\n",
              "      <td>[Testing, COMPUTER, SKILLS, SOFTWARE, KNOWLEDG...</td>\n",
              "      <td>[Testing, COMPUTER, SKILLS, SOFTWARE, KNOWLEDG...</td>\n",
              "      <td>[Testing COMPUTER SKILLS SOFTWARE KNOWLEDGE MS...</td>\n",
              "      <td>[test, wind, nternet, use, use, DESIGN]</td>\n",
              "      <td>[Power Point MS Office C Protius PCB, Matlab K...</td>\n",
              "      <td>{design, heart, university, 6, system, educati...</td>\n",
              "      <td>8</td>\n",
              "    </tr>\n",
              "    <tr>\n",
              "      <th>961</th>\n",
              "      <td>Testing</td>\n",
              "      <td>Skill Set OS Windows XP/7/8/8.1/10 Database MY...</td>\n",
              "      <td>Testing Skill Set OS Windows XP/7/8/8.1/10 Dat...</td>\n",
              "      <td>Testing Skill Set OS Windows XP788110 Database...</td>\n",
              "      <td>[Testing, Skill, Set, OS, Windows, XP, 7, 8, 8...</td>\n",
              "      <td>[(Testing, VBG), (Skill, NNP), (Set, NNP), (OS...</td>\n",
              "      <td>[Testing, Skill, Set, OS, Windows, XP, 7, 8, 8...</td>\n",
              "      <td>[Testing, Skill, Set, OS, Windows, XP, 7, 8, 8...</td>\n",
              "      <td>[Testing Skill Set, Windows XP, 7 8 8 1 10 Dat...</td>\n",
              "      <td>[os, report, handle, testing, test, analyze, p...</td>\n",
              "      <td>[Database MYSQL, 2005, 2008, 2012, Languages C...</td>\n",
              "      <td>{database, month, analyze, 2012, â, factory, a...</td>\n",
              "      <td>7</td>\n",
              "    </tr>\n",
              "  </tbody>\n",
              "</table>\n",
              "<p>962 rows × 13 columns</p>\n",
              "</div>\n",
              "      <button class=\"colab-df-convert\" onclick=\"convertToInteractive('df-5255d2b6-53df-4bb1-8dd2-a3681b7eeedd')\"\n",
              "              title=\"Convert this dataframe to an interactive table.\"\n",
              "              style=\"display:none;\">\n",
              "        \n",
              "  <svg xmlns=\"http://www.w3.org/2000/svg\" height=\"24px\"viewBox=\"0 0 24 24\"\n",
              "       width=\"24px\">\n",
              "    <path d=\"M0 0h24v24H0V0z\" fill=\"none\"/>\n",
              "    <path d=\"M18.56 5.44l.94 2.06.94-2.06 2.06-.94-2.06-.94-.94-2.06-.94 2.06-2.06.94zm-11 1L8.5 8.5l.94-2.06 2.06-.94-2.06-.94L8.5 2.5l-.94 2.06-2.06.94zm10 10l.94 2.06.94-2.06 2.06-.94-2.06-.94-.94-2.06-.94 2.06-2.06.94z\"/><path d=\"M17.41 7.96l-1.37-1.37c-.4-.4-.92-.59-1.43-.59-.52 0-1.04.2-1.43.59L10.3 9.45l-7.72 7.72c-.78.78-.78 2.05 0 2.83L4 21.41c.39.39.9.59 1.41.59.51 0 1.02-.2 1.41-.59l7.78-7.78 2.81-2.81c.8-.78.8-2.07 0-2.86zM5.41 20L4 18.59l7.72-7.72 1.47 1.35L5.41 20z\"/>\n",
              "  </svg>\n",
              "      </button>\n",
              "      \n",
              "  <style>\n",
              "    .colab-df-container {\n",
              "      display:flex;\n",
              "      flex-wrap:wrap;\n",
              "      gap: 12px;\n",
              "    }\n",
              "\n",
              "    .colab-df-convert {\n",
              "      background-color: #E8F0FE;\n",
              "      border: none;\n",
              "      border-radius: 50%;\n",
              "      cursor: pointer;\n",
              "      display: none;\n",
              "      fill: #1967D2;\n",
              "      height: 32px;\n",
              "      padding: 0 0 0 0;\n",
              "      width: 32px;\n",
              "    }\n",
              "\n",
              "    .colab-df-convert:hover {\n",
              "      background-color: #E2EBFA;\n",
              "      box-shadow: 0px 1px 2px rgba(60, 64, 67, 0.3), 0px 1px 3px 1px rgba(60, 64, 67, 0.15);\n",
              "      fill: #174EA6;\n",
              "    }\n",
              "\n",
              "    [theme=dark] .colab-df-convert {\n",
              "      background-color: #3B4455;\n",
              "      fill: #D2E3FC;\n",
              "    }\n",
              "\n",
              "    [theme=dark] .colab-df-convert:hover {\n",
              "      background-color: #434B5C;\n",
              "      box-shadow: 0px 1px 3px 1px rgba(0, 0, 0, 0.15);\n",
              "      filter: drop-shadow(0px 1px 2px rgba(0, 0, 0, 0.3));\n",
              "      fill: #FFFFFF;\n",
              "    }\n",
              "  </style>\n",
              "\n",
              "      <script>\n",
              "        const buttonEl =\n",
              "          document.querySelector('#df-5255d2b6-53df-4bb1-8dd2-a3681b7eeedd button.colab-df-convert');\n",
              "        buttonEl.style.display =\n",
              "          google.colab.kernel.accessAllowed ? 'block' : 'none';\n",
              "\n",
              "        async function convertToInteractive(key) {\n",
              "          const element = document.querySelector('#df-5255d2b6-53df-4bb1-8dd2-a3681b7eeedd');\n",
              "          const dataTable =\n",
              "            await google.colab.kernel.invokeFunction('convertToInteractive',\n",
              "                                                     [key], {});\n",
              "          if (!dataTable) return;\n",
              "\n",
              "          const docLinkHtml = 'Like what you see? Visit the ' +\n",
              "            '<a target=\"_blank\" href=https://colab.research.google.com/notebooks/data_table.ipynb>data table notebook</a>'\n",
              "            + ' to learn more about interactive tables.';\n",
              "          element.innerHTML = '';\n",
              "          dataTable['output_type'] = 'display_data';\n",
              "          await google.colab.output.renderOutput(dataTable, element);\n",
              "          const docLink = document.createElement('div');\n",
              "          docLink.innerHTML = docLinkHtml;\n",
              "          element.appendChild(docLink);\n",
              "        }\n",
              "      </script>\n",
              "    </div>\n",
              "  </div>\n",
              "  "
            ],
            "text/plain": [
              "         Category                                             Resume  \\\n",
              "0    Data Science  Skills * Programming Languages: Python (pandas...   \n",
              "1    Data Science  Education Details \\r\\nMay 2013 to May 2017 B.E...   \n",
              "2    Data Science  Areas of Interest Deep Learning, Control Syste...   \n",
              "3    Data Science  Skills â¢ R â¢ Python â¢ SAP HANA â¢ Table...   \n",
              "4    Data Science  Education Details \\r\\n MCA   YMCAUST,  Faridab...   \n",
              "..            ...                                                ...   \n",
              "957       Testing  Computer Skills: â¢ Proficient in MS office (...   \n",
              "958       Testing  â Willingness to accept the challenges. â ...   \n",
              "959       Testing  PERSONAL SKILLS â¢ Quick learner, â¢ Eagerne...   \n",
              "960       Testing  COMPUTER SKILLS & SOFTWARE KNOWLEDGE MS-Power ...   \n",
              "961       Testing  Skill Set OS Windows XP/7/8/8.1/10 Database MY...   \n",
              "\n",
              "                                                  info  \\\n",
              "0    Data Science Skills * Programming Languages: P...   \n",
              "1    Data Science Education Details \\r\\nMay 2013 to...   \n",
              "2    Data Science Areas of Interest Deep Learning, ...   \n",
              "3    Data Science Skills â¢ R â¢ Python â¢ SAP H...   \n",
              "4    Data Science Education Details \\r\\n MCA   YMCA...   \n",
              "..                                                 ...   \n",
              "957  Testing Computer Skills: â¢ Proficient in MS ...   \n",
              "958  Testing â Willingness to accept the challeng...   \n",
              "959  Testing PERSONAL SKILLS â¢ Quick learner, â¢...   \n",
              "960  Testing COMPUTER SKILLS & SOFTWARE KNOWLEDGE M...   \n",
              "961  Testing Skill Set OS Windows XP/7/8/8.1/10 Dat...   \n",
              "\n",
              "                                            clean_punc  \\\n",
              "0    Data Science Skills  Programming Languages Pyt...   \n",
              "1    Data Science Education Details \\r\\nMay 2013 to...   \n",
              "2    Data Science Areas of Interest Deep Learning C...   \n",
              "3    Data Science Skills â¢ R â¢ Python â¢ SAP H...   \n",
              "4    Data Science Education Details \\r\\n MCA   YMCA...   \n",
              "..                                                 ...   \n",
              "957  Testing Computer Skills â¢ Proficient in MS o...   \n",
              "958  Testing â Willingness to accept the challeng...   \n",
              "959  Testing PERSONAL SKILLS â¢ Quick learner â¢ ...   \n",
              "960  Testing COMPUTER SKILLS  SOFTWARE KNOWLEDGE MS...   \n",
              "961  Testing Skill Set OS Windows XP788110 Database...   \n",
              "\n",
              "                                    after_tokenization  \\\n",
              "0    [Data, Science, Skills, Programming, Languages...   \n",
              "1    [Data, Science, Education, Details, May, 2013,...   \n",
              "2    [Data, Science, Areas, of, Interest, Deep, Lea...   \n",
              "3    [Data, Science, Skills, â, R, â, Python, â, SA...   \n",
              "4    [Data, Science, Education, Details, MCA, YMCAU...   \n",
              "..                                                 ...   \n",
              "957  [Testing, Computer, Skills, â, Proficient, in,...   \n",
              "958  [Testing, â, Willingness, to, accept, the, cha...   \n",
              "959  [Testing, PERSONAL, SKILLS, â, Quick, learner,...   \n",
              "960  [Testing, COMPUTER, SKILLS, SOFTWARE, KNOWLEDG...   \n",
              "961  [Testing, Skill, Set, OS, Windows, XP, 7, 8, 8...   \n",
              "\n",
              "                                     after_pos_tagging  \\\n",
              "0    [(Data, NNP), (Science, NNP), (Skills, NNP), (...   \n",
              "1    [(Data, NNP), (Science, NNP), (Education, NNP)...   \n",
              "2    [(Data, NNP), (Science, NNP), (Areas, NNP), (o...   \n",
              "3    [(Data, NNP), (Science, NNP), (Skills, NNP), (...   \n",
              "4    [(Data, NNP), (Science, NNP), (Education, NNP)...   \n",
              "..                                                 ...   \n",
              "957  [(Testing, VBG), (Computer, NNP), (Skills, NNP...   \n",
              "958  [(Testing, VBG), (â, JJ), (Willingness, NNP), ...   \n",
              "959  [(Testing, VBG), (PERSONAL, NNP), (SKILLS, NNP...   \n",
              "960  [(Testing, VBG), (COMPUTER, NNP), (SKILLS, NNP...   \n",
              "961  [(Testing, VBG), (Skill, NNP), (Set, NNP), (OS...   \n",
              "\n",
              "                                             remove_sw  \\\n",
              "0    [Data, Science, Skills, Programming, Languages...   \n",
              "1    [Data, Science, Education, Details, May, 2013,...   \n",
              "2    [Data, Science, Areas, Interest, Deep, Learnin...   \n",
              "3    [Data, Science, Skills, â, R, â, Python, â, SA...   \n",
              "4    [Data, Science, Education, Details, MCA, YMCAU...   \n",
              "..                                                 ...   \n",
              "957  [Testing, Computer, Skills, â, Proficient, MS,...   \n",
              "958  [Testing, â, Willingness, accept, challenges, ...   \n",
              "959  [Testing, PERSONAL, SKILLS, â, Quick, learner,...   \n",
              "960  [Testing, COMPUTER, SKILLS, SOFTWARE, KNOWLEDG...   \n",
              "961  [Testing, Skill, Set, OS, Windows, XP, 7, 8, 8...   \n",
              "\n",
              "                                   after_lemmatization  \\\n",
              "0    [Data, Science, Skills, Programming, Languages...   \n",
              "1    [Data, Science, Education, Details, May, 2013,...   \n",
              "2    [Data, Science, Areas, Interest, Deep, Learnin...   \n",
              "3    [Data, Science, Skills, â, R, â, Python, â, SA...   \n",
              "4    [Data, Science, Education, Details, MCA, YMCAU...   \n",
              "..                                                 ...   \n",
              "957  [Testing, Computer, Skills, â, Proficient, MS,...   \n",
              "958  [Testing, â, Willingness, accept, challenge, â...   \n",
              "959  [Testing, PERSONAL, SKILLS, â, Quick, learner,...   \n",
              "960  [Testing, COMPUTER, SKILLS, SOFTWARE, KNOWLEDG...   \n",
              "961  [Testing, Skill, Set, OS, Windows, XP, 7, 8, 8...   \n",
              "\n",
              "                                          noun_phrases  \\\n",
              "0    [Data Science Skills Programming Languages Pyt...   \n",
              "1    [Data Science Education Details, Statsmodels E...   \n",
              "2    [Data Science Areas Interest, Design Programmi...   \n",
              "3    [Data Science Skills â R â Python, SAP, Tablea...   \n",
              "4    [Skill Details Data Structure, Exprience, Less...   \n",
              "..                                                 ...   \n",
              "957  [Testing Computer Skills â Proficient MS offic...   \n",
              "958  [Testing â Willingness, challenge, Positive th...   \n",
              "959  [Testing PERSONAL, SKILLS, â Quick learner, â ...   \n",
              "960  [Testing COMPUTER SKILLS SOFTWARE KNOWLEDGE MS...   \n",
              "961  [Testing Skill Set, Windows XP, 7 8 8 1 10 Dat...   \n",
              "\n",
              "                                            verb_forms  \\\n",
              "0    [scipy, learn, learn, boost, embed, assist, ac...   \n",
              "1    [learn, matelab, develop, deploy, miss, deploy...   \n",
              "2    [excel, work, base, disclose, need, base, brin...   \n",
              "3    [learn, involve, analyse, come, give, carry, p...   \n",
              "4                                                   []   \n",
              "..                                                 ...   \n",
              "957  [work, motivate, EXCEL, â, check, follow, cond...   \n",
              "958  [test, accept, declare, mention, bear, mention...   \n",
              "959  [test, learn, personal, conduct, prepare, set,...   \n",
              "960            [test, wind, nternet, use, use, DESIGN]   \n",
              "961  [os, report, handle, testing, test, analyze, p...   \n",
              "\n",
              "                                        named_entities  \\\n",
              "0    [Data Science Skills Programming Languages Pyt...   \n",
              "1    [May 2013, May 2017, 1 year month, Exprience, ...   \n",
              "2    [Hindustan Aeronautics Limited Bangalore, 4 we...   \n",
              "3    [Advance Analytics, Social Media Analytics, NL...   \n",
              "4    [Faridabad Haryana Data Science, Skill Details...   \n",
              "..                                                 ...   \n",
              "957  [Singh College Engineering Research Centre Dip...   \n",
              "958  [June 2015, Kolhapur Maharashtra, June 2012, 1...   \n",
              "959  [Eagerness, Competitive, Dhanraj WaghEducation...   \n",
              "960  [Power Point MS Office C Protius PCB, Matlab K...   \n",
              "961  [Database MYSQL, 2005, 2008, 2012, Languages C...   \n",
              "\n",
              "                                           total_words  skills_matched  \n",
              "0    {organizations, product, question, feedback, t...              46  \n",
              "1    {paper, dimensionality, month, platform, ml, m...              11  \n",
              "2    {satish, electrical, month, xampp, disclose, j...              17  \n",
              "3    {database, month, crm, deloitte, foods, januar...              48  \n",
              "4    {itechpower, science, database, month, skill, ...              10  \n",
              "..                                                 ...             ...  \n",
              "957  {electrical, month, crm, powai, basic, creativ...              10  \n",
              "958  {acceptance, product, month, analyze, 2012, co...              18  \n",
              "959  {rajapur, ctr, product, successfully, analyze,...              10  \n",
              "960  {design, heart, university, 6, system, educati...               8  \n",
              "961  {database, month, analyze, 2012, â, factory, a...               7  \n",
              "\n",
              "[962 rows x 13 columns]"
            ]
          },
          "execution_count": 283,
          "metadata": {},
          "output_type": "execute_result"
        }
      ],
      "source": [
        "def ct(text):\n",
        "  count=0\n",
        "  for i in text:\n",
        "    if i in skills_list:\n",
        "      count+=1\n",
        "  return count\n",
        "\n",
        "df['skills_matched']=df['total_words'].apply(lambda x:ct(x))\n",
        "df"
      ]
    },
    {
      "cell_type": "markdown",
      "metadata": {
        "id": "55D1oTtH0syL"
      },
      "source": [
        "# Displaying the top-10 resumes which matched more number of skills"
      ]
    },
    {
      "cell_type": "code",
      "execution_count": null,
      "metadata": {
        "colab": {
          "base_uri": "https://localhost:8080/",
          "height": 206
        },
        "id": "2RECoyFDlYTE",
        "outputId": "f1909872-d3bc-493d-94eb-1caf55e7865d"
      },
      "outputs": [
        {
          "data": {
            "text/html": [
              "\n",
              "  <div id=\"df-8085ad39-22e1-4eb9-85f6-0b1574ed78b9\">\n",
              "    <div class=\"colab-df-container\">\n",
              "      <div>\n",
              "<style scoped>\n",
              "    .dataframe tbody tr th:only-of-type {\n",
              "        vertical-align: middle;\n",
              "    }\n",
              "\n",
              "    .dataframe tbody tr th {\n",
              "        vertical-align: top;\n",
              "    }\n",
              "\n",
              "    .dataframe thead th {\n",
              "        text-align: right;\n",
              "    }\n",
              "</style>\n",
              "<table border=\"1\" class=\"dataframe\">\n",
              "  <thead>\n",
              "    <tr style=\"text-align: right;\">\n",
              "      <th></th>\n",
              "      <th>Category</th>\n",
              "      <th>Resume</th>\n",
              "      <th>skills_matched</th>\n",
              "    </tr>\n",
              "  </thead>\n",
              "  <tbody>\n",
              "    <tr>\n",
              "      <th>37</th>\n",
              "      <td>Data Science</td>\n",
              "      <td>Education Details \\r\\n B.Tech   Rayat and Bahr...</td>\n",
              "      <td>49</td>\n",
              "    </tr>\n",
              "    <tr>\n",
              "      <th>17</th>\n",
              "      <td>Data Science</td>\n",
              "      <td>Education Details \\r\\n B.Tech   Rayat and Bahr...</td>\n",
              "      <td>49</td>\n",
              "    </tr>\n",
              "    <tr>\n",
              "      <th>7</th>\n",
              "      <td>Data Science</td>\n",
              "      <td>Education Details \\r\\n B.Tech   Rayat and Bahr...</td>\n",
              "      <td>49</td>\n",
              "    </tr>\n",
              "    <tr>\n",
              "      <th>27</th>\n",
              "      <td>Data Science</td>\n",
              "      <td>Education Details \\r\\n B.Tech   Rayat and Bahr...</td>\n",
              "      <td>49</td>\n",
              "    </tr>\n",
              "    <tr>\n",
              "      <th>3</th>\n",
              "      <td>Data Science</td>\n",
              "      <td>Skills â¢ R â¢ Python â¢ SAP HANA â¢ Table...</td>\n",
              "      <td>48</td>\n",
              "    </tr>\n",
              "  </tbody>\n",
              "</table>\n",
              "</div>\n",
              "      <button class=\"colab-df-convert\" onclick=\"convertToInteractive('df-8085ad39-22e1-4eb9-85f6-0b1574ed78b9')\"\n",
              "              title=\"Convert this dataframe to an interactive table.\"\n",
              "              style=\"display:none;\">\n",
              "        \n",
              "  <svg xmlns=\"http://www.w3.org/2000/svg\" height=\"24px\"viewBox=\"0 0 24 24\"\n",
              "       width=\"24px\">\n",
              "    <path d=\"M0 0h24v24H0V0z\" fill=\"none\"/>\n",
              "    <path d=\"M18.56 5.44l.94 2.06.94-2.06 2.06-.94-2.06-.94-.94-2.06-.94 2.06-2.06.94zm-11 1L8.5 8.5l.94-2.06 2.06-.94-2.06-.94L8.5 2.5l-.94 2.06-2.06.94zm10 10l.94 2.06.94-2.06 2.06-.94-2.06-.94-.94-2.06-.94 2.06-2.06.94z\"/><path d=\"M17.41 7.96l-1.37-1.37c-.4-.4-.92-.59-1.43-.59-.52 0-1.04.2-1.43.59L10.3 9.45l-7.72 7.72c-.78.78-.78 2.05 0 2.83L4 21.41c.39.39.9.59 1.41.59.51 0 1.02-.2 1.41-.59l7.78-7.78 2.81-2.81c.8-.78.8-2.07 0-2.86zM5.41 20L4 18.59l7.72-7.72 1.47 1.35L5.41 20z\"/>\n",
              "  </svg>\n",
              "      </button>\n",
              "      \n",
              "  <style>\n",
              "    .colab-df-container {\n",
              "      display:flex;\n",
              "      flex-wrap:wrap;\n",
              "      gap: 12px;\n",
              "    }\n",
              "\n",
              "    .colab-df-convert {\n",
              "      background-color: #E8F0FE;\n",
              "      border: none;\n",
              "      border-radius: 50%;\n",
              "      cursor: pointer;\n",
              "      display: none;\n",
              "      fill: #1967D2;\n",
              "      height: 32px;\n",
              "      padding: 0 0 0 0;\n",
              "      width: 32px;\n",
              "    }\n",
              "\n",
              "    .colab-df-convert:hover {\n",
              "      background-color: #E2EBFA;\n",
              "      box-shadow: 0px 1px 2px rgba(60, 64, 67, 0.3), 0px 1px 3px 1px rgba(60, 64, 67, 0.15);\n",
              "      fill: #174EA6;\n",
              "    }\n",
              "\n",
              "    [theme=dark] .colab-df-convert {\n",
              "      background-color: #3B4455;\n",
              "      fill: #D2E3FC;\n",
              "    }\n",
              "\n",
              "    [theme=dark] .colab-df-convert:hover {\n",
              "      background-color: #434B5C;\n",
              "      box-shadow: 0px 1px 3px 1px rgba(0, 0, 0, 0.15);\n",
              "      filter: drop-shadow(0px 1px 2px rgba(0, 0, 0, 0.3));\n",
              "      fill: #FFFFFF;\n",
              "    }\n",
              "  </style>\n",
              "\n",
              "      <script>\n",
              "        const buttonEl =\n",
              "          document.querySelector('#df-8085ad39-22e1-4eb9-85f6-0b1574ed78b9 button.colab-df-convert');\n",
              "        buttonEl.style.display =\n",
              "          google.colab.kernel.accessAllowed ? 'block' : 'none';\n",
              "\n",
              "        async function convertToInteractive(key) {\n",
              "          const element = document.querySelector('#df-8085ad39-22e1-4eb9-85f6-0b1574ed78b9');\n",
              "          const dataTable =\n",
              "            await google.colab.kernel.invokeFunction('convertToInteractive',\n",
              "                                                     [key], {});\n",
              "          if (!dataTable) return;\n",
              "\n",
              "          const docLinkHtml = 'Like what you see? Visit the ' +\n",
              "            '<a target=\"_blank\" href=https://colab.research.google.com/notebooks/data_table.ipynb>data table notebook</a>'\n",
              "            + ' to learn more about interactive tables.';\n",
              "          element.innerHTML = '';\n",
              "          dataTable['output_type'] = 'display_data';\n",
              "          await google.colab.output.renderOutput(dataTable, element);\n",
              "          const docLink = document.createElement('div');\n",
              "          docLink.innerHTML = docLinkHtml;\n",
              "          element.appendChild(docLink);\n",
              "        }\n",
              "      </script>\n",
              "    </div>\n",
              "  </div>\n",
              "  "
            ],
            "text/plain": [
              "        Category                                             Resume  \\\n",
              "37  Data Science  Education Details \\r\\n B.Tech   Rayat and Bahr...   \n",
              "17  Data Science  Education Details \\r\\n B.Tech   Rayat and Bahr...   \n",
              "7   Data Science  Education Details \\r\\n B.Tech   Rayat and Bahr...   \n",
              "27  Data Science  Education Details \\r\\n B.Tech   Rayat and Bahr...   \n",
              "3   Data Science  Skills â¢ R â¢ Python â¢ SAP HANA â¢ Table...   \n",
              "\n",
              "    skills_matched  \n",
              "37              49  \n",
              "17              49  \n",
              "7               49  \n",
              "27              49  \n",
              "3               48  "
            ]
          },
          "execution_count": 284,
          "metadata": {},
          "output_type": "execute_result"
        }
      ],
      "source": [
        "df.sort_values(by='skills_matched',inplace=True,ascending=False)\n",
        "df[['Category','Resume','skills_matched']].head()"
      ]
    },
    {
      "cell_type": "markdown",
      "metadata": {
        "id": "LTammu47HrVN"
      },
      "source": [
        "# Resumes which skills matched more than 40"
      ]
    },
    {
      "cell_type": "code",
      "execution_count": null,
      "metadata": {
        "colab": {
          "base_uri": "https://localhost:8080/",
          "height": 1000
        },
        "id": "wRt8znUxHRvc",
        "outputId": "57faafb7-efaa-40a0-90a1-68be71f4b024"
      },
      "outputs": [
        {
          "data": {
            "text/html": [
              "\n",
              "  <div id=\"df-a138c029-2b24-457c-8f2d-f9931d5a3668\">\n",
              "    <div class=\"colab-df-container\">\n",
              "      <div>\n",
              "<style scoped>\n",
              "    .dataframe tbody tr th:only-of-type {\n",
              "        vertical-align: middle;\n",
              "    }\n",
              "\n",
              "    .dataframe tbody tr th {\n",
              "        vertical-align: top;\n",
              "    }\n",
              "\n",
              "    .dataframe thead th {\n",
              "        text-align: right;\n",
              "    }\n",
              "</style>\n",
              "<table border=\"1\" class=\"dataframe\">\n",
              "  <thead>\n",
              "    <tr style=\"text-align: right;\">\n",
              "      <th></th>\n",
              "      <th>Category</th>\n",
              "      <th>Resume</th>\n",
              "      <th>skills_matched</th>\n",
              "    </tr>\n",
              "  </thead>\n",
              "  <tbody>\n",
              "    <tr>\n",
              "      <th>37</th>\n",
              "      <td>Data Science</td>\n",
              "      <td>Education Details \\r\\n B.Tech   Rayat and Bahr...</td>\n",
              "      <td>49</td>\n",
              "    </tr>\n",
              "    <tr>\n",
              "      <th>17</th>\n",
              "      <td>Data Science</td>\n",
              "      <td>Education Details \\r\\n B.Tech   Rayat and Bahr...</td>\n",
              "      <td>49</td>\n",
              "    </tr>\n",
              "    <tr>\n",
              "      <th>7</th>\n",
              "      <td>Data Science</td>\n",
              "      <td>Education Details \\r\\n B.Tech   Rayat and Bahr...</td>\n",
              "      <td>49</td>\n",
              "    </tr>\n",
              "    <tr>\n",
              "      <th>27</th>\n",
              "      <td>Data Science</td>\n",
              "      <td>Education Details \\r\\n B.Tech   Rayat and Bahr...</td>\n",
              "      <td>49</td>\n",
              "    </tr>\n",
              "    <tr>\n",
              "      <th>3</th>\n",
              "      <td>Data Science</td>\n",
              "      <td>Skills â¢ R â¢ Python â¢ SAP HANA â¢ Table...</td>\n",
              "      <td>48</td>\n",
              "    </tr>\n",
              "    <tr>\n",
              "      <th>33</th>\n",
              "      <td>Data Science</td>\n",
              "      <td>Skills â¢ R â¢ Python â¢ SAP HANA â¢ Table...</td>\n",
              "      <td>48</td>\n",
              "    </tr>\n",
              "    <tr>\n",
              "      <th>23</th>\n",
              "      <td>Data Science</td>\n",
              "      <td>Skills â¢ R â¢ Python â¢ SAP HANA â¢ Table...</td>\n",
              "      <td>48</td>\n",
              "    </tr>\n",
              "    <tr>\n",
              "      <th>13</th>\n",
              "      <td>Data Science</td>\n",
              "      <td>Skills â¢ R â¢ Python â¢ SAP HANA â¢ Table...</td>\n",
              "      <td>48</td>\n",
              "    </tr>\n",
              "    <tr>\n",
              "      <th>0</th>\n",
              "      <td>Data Science</td>\n",
              "      <td>Skills * Programming Languages: Python (pandas...</td>\n",
              "      <td>46</td>\n",
              "    </tr>\n",
              "    <tr>\n",
              "      <th>428</th>\n",
              "      <td>Business Analyst</td>\n",
              "      <td>IT Skills: Area Exposure Modeling Tool: Bizagi...</td>\n",
              "      <td>46</td>\n",
              "    </tr>\n",
              "    <tr>\n",
              "      <th>535</th>\n",
              "      <td>Operations Manager</td>\n",
              "      <td>Education Details \\r\\n BCA   Vinayaka Missions...</td>\n",
              "      <td>46</td>\n",
              "    </tr>\n",
              "    <tr>\n",
              "      <th>539</th>\n",
              "      <td>Operations Manager</td>\n",
              "      <td>Education Details \\r\\n BCA   Vinayaka Missions...</td>\n",
              "      <td>46</td>\n",
              "    </tr>\n",
              "    <tr>\n",
              "      <th>424</th>\n",
              "      <td>Business Analyst</td>\n",
              "      <td>IT Skills: Area Exposure Modeling Tool: Bizagi...</td>\n",
              "      <td>46</td>\n",
              "    </tr>\n",
              "    <tr>\n",
              "      <th>543</th>\n",
              "      <td>Operations Manager</td>\n",
              "      <td>Education Details \\r\\n BCA   Vinayaka Missions...</td>\n",
              "      <td>46</td>\n",
              "    </tr>\n",
              "    <tr>\n",
              "      <th>531</th>\n",
              "      <td>Operations Manager</td>\n",
              "      <td>Education Details \\r\\n BCA   Vinayaka Missions...</td>\n",
              "      <td>46</td>\n",
              "    </tr>\n",
              "    <tr>\n",
              "      <th>30</th>\n",
              "      <td>Data Science</td>\n",
              "      <td>Skills * Programming Languages: Python (pandas...</td>\n",
              "      <td>46</td>\n",
              "    </tr>\n",
              "    <tr>\n",
              "      <th>410</th>\n",
              "      <td>Business Analyst</td>\n",
              "      <td>IT Skills: Area Exposure Modeling Tool: Bizagi...</td>\n",
              "      <td>46</td>\n",
              "    </tr>\n",
              "    <tr>\n",
              "      <th>420</th>\n",
              "      <td>Business Analyst</td>\n",
              "      <td>IT Skills: Area Exposure Modeling Tool: Bizagi...</td>\n",
              "      <td>46</td>\n",
              "    </tr>\n",
              "    <tr>\n",
              "      <th>547</th>\n",
              "      <td>Operations Manager</td>\n",
              "      <td>Education Details \\r\\n BCA   Vinayaka Missions...</td>\n",
              "      <td>46</td>\n",
              "    </tr>\n",
              "    <tr>\n",
              "      <th>20</th>\n",
              "      <td>Data Science</td>\n",
              "      <td>Skills * Programming Languages: Python (pandas...</td>\n",
              "      <td>46</td>\n",
              "    </tr>\n",
              "    <tr>\n",
              "      <th>511</th>\n",
              "      <td>Operations Manager</td>\n",
              "      <td>Education Details \\r\\n BCA   Vinayaka Missions...</td>\n",
              "      <td>46</td>\n",
              "    </tr>\n",
              "    <tr>\n",
              "      <th>523</th>\n",
              "      <td>Operations Manager</td>\n",
              "      <td>Education Details \\r\\n BCA   Vinayaka Missions...</td>\n",
              "      <td>46</td>\n",
              "    </tr>\n",
              "    <tr>\n",
              "      <th>519</th>\n",
              "      <td>Operations Manager</td>\n",
              "      <td>Education Details \\r\\n BCA   Vinayaka Missions...</td>\n",
              "      <td>46</td>\n",
              "    </tr>\n",
              "    <tr>\n",
              "      <th>515</th>\n",
              "      <td>Operations Manager</td>\n",
              "      <td>Education Details \\r\\n BCA   Vinayaka Missions...</td>\n",
              "      <td>46</td>\n",
              "    </tr>\n",
              "    <tr>\n",
              "      <th>10</th>\n",
              "      <td>Data Science</td>\n",
              "      <td>Skills * Programming Languages: Python (pandas...</td>\n",
              "      <td>46</td>\n",
              "    </tr>\n",
              "    <tr>\n",
              "      <th>414</th>\n",
              "      <td>Business Analyst</td>\n",
              "      <td>IT Skills: Area Exposure Modeling Tool: Bizagi...</td>\n",
              "      <td>46</td>\n",
              "    </tr>\n",
              "    <tr>\n",
              "      <th>527</th>\n",
              "      <td>Operations Manager</td>\n",
              "      <td>Education Details \\r\\n BCA   Vinayaka Missions...</td>\n",
              "      <td>46</td>\n",
              "    </tr>\n",
              "    <tr>\n",
              "      <th>406</th>\n",
              "      <td>Business Analyst</td>\n",
              "      <td>IT Skills: Area Exposure Modeling Tool: Bizagi...</td>\n",
              "      <td>46</td>\n",
              "    </tr>\n",
              "    <tr>\n",
              "      <th>767</th>\n",
              "      <td>Hadoop</td>\n",
              "      <td>Technical Skill Set: Programming Languages Apa...</td>\n",
              "      <td>44</td>\n",
              "    </tr>\n",
              "    <tr>\n",
              "      <th>760</th>\n",
              "      <td>Hadoop</td>\n",
              "      <td>Technical Skill Set: Programming Languages Apa...</td>\n",
              "      <td>44</td>\n",
              "    </tr>\n",
              "    <tr>\n",
              "      <th>781</th>\n",
              "      <td>Hadoop</td>\n",
              "      <td>Technical Skill Set: Programming Languages Apa...</td>\n",
              "      <td>44</td>\n",
              "    </tr>\n",
              "    <tr>\n",
              "      <th>753</th>\n",
              "      <td>Hadoop</td>\n",
              "      <td>Technical Skill Set: Programming Languages Apa...</td>\n",
              "      <td>44</td>\n",
              "    </tr>\n",
              "    <tr>\n",
              "      <th>746</th>\n",
              "      <td>Hadoop</td>\n",
              "      <td>Technical Skill Set: Programming Languages Apa...</td>\n",
              "      <td>44</td>\n",
              "    </tr>\n",
              "    <tr>\n",
              "      <th>774</th>\n",
              "      <td>Hadoop</td>\n",
              "      <td>Technical Skill Set: Programming Languages Apa...</td>\n",
              "      <td>44</td>\n",
              "    </tr>\n",
              "  </tbody>\n",
              "</table>\n",
              "</div>\n",
              "      <button class=\"colab-df-convert\" onclick=\"convertToInteractive('df-a138c029-2b24-457c-8f2d-f9931d5a3668')\"\n",
              "              title=\"Convert this dataframe to an interactive table.\"\n",
              "              style=\"display:none;\">\n",
              "        \n",
              "  <svg xmlns=\"http://www.w3.org/2000/svg\" height=\"24px\"viewBox=\"0 0 24 24\"\n",
              "       width=\"24px\">\n",
              "    <path d=\"M0 0h24v24H0V0z\" fill=\"none\"/>\n",
              "    <path d=\"M18.56 5.44l.94 2.06.94-2.06 2.06-.94-2.06-.94-.94-2.06-.94 2.06-2.06.94zm-11 1L8.5 8.5l.94-2.06 2.06-.94-2.06-.94L8.5 2.5l-.94 2.06-2.06.94zm10 10l.94 2.06.94-2.06 2.06-.94-2.06-.94-.94-2.06-.94 2.06-2.06.94z\"/><path d=\"M17.41 7.96l-1.37-1.37c-.4-.4-.92-.59-1.43-.59-.52 0-1.04.2-1.43.59L10.3 9.45l-7.72 7.72c-.78.78-.78 2.05 0 2.83L4 21.41c.39.39.9.59 1.41.59.51 0 1.02-.2 1.41-.59l7.78-7.78 2.81-2.81c.8-.78.8-2.07 0-2.86zM5.41 20L4 18.59l7.72-7.72 1.47 1.35L5.41 20z\"/>\n",
              "  </svg>\n",
              "      </button>\n",
              "      \n",
              "  <style>\n",
              "    .colab-df-container {\n",
              "      display:flex;\n",
              "      flex-wrap:wrap;\n",
              "      gap: 12px;\n",
              "    }\n",
              "\n",
              "    .colab-df-convert {\n",
              "      background-color: #E8F0FE;\n",
              "      border: none;\n",
              "      border-radius: 50%;\n",
              "      cursor: pointer;\n",
              "      display: none;\n",
              "      fill: #1967D2;\n",
              "      height: 32px;\n",
              "      padding: 0 0 0 0;\n",
              "      width: 32px;\n",
              "    }\n",
              "\n",
              "    .colab-df-convert:hover {\n",
              "      background-color: #E2EBFA;\n",
              "      box-shadow: 0px 1px 2px rgba(60, 64, 67, 0.3), 0px 1px 3px 1px rgba(60, 64, 67, 0.15);\n",
              "      fill: #174EA6;\n",
              "    }\n",
              "\n",
              "    [theme=dark] .colab-df-convert {\n",
              "      background-color: #3B4455;\n",
              "      fill: #D2E3FC;\n",
              "    }\n",
              "\n",
              "    [theme=dark] .colab-df-convert:hover {\n",
              "      background-color: #434B5C;\n",
              "      box-shadow: 0px 1px 3px 1px rgba(0, 0, 0, 0.15);\n",
              "      filter: drop-shadow(0px 1px 2px rgba(0, 0, 0, 0.3));\n",
              "      fill: #FFFFFF;\n",
              "    }\n",
              "  </style>\n",
              "\n",
              "      <script>\n",
              "        const buttonEl =\n",
              "          document.querySelector('#df-a138c029-2b24-457c-8f2d-f9931d5a3668 button.colab-df-convert');\n",
              "        buttonEl.style.display =\n",
              "          google.colab.kernel.accessAllowed ? 'block' : 'none';\n",
              "\n",
              "        async function convertToInteractive(key) {\n",
              "          const element = document.querySelector('#df-a138c029-2b24-457c-8f2d-f9931d5a3668');\n",
              "          const dataTable =\n",
              "            await google.colab.kernel.invokeFunction('convertToInteractive',\n",
              "                                                     [key], {});\n",
              "          if (!dataTable) return;\n",
              "\n",
              "          const docLinkHtml = 'Like what you see? Visit the ' +\n",
              "            '<a target=\"_blank\" href=https://colab.research.google.com/notebooks/data_table.ipynb>data table notebook</a>'\n",
              "            + ' to learn more about interactive tables.';\n",
              "          element.innerHTML = '';\n",
              "          dataTable['output_type'] = 'display_data';\n",
              "          await google.colab.output.renderOutput(dataTable, element);\n",
              "          const docLink = document.createElement('div');\n",
              "          docLink.innerHTML = docLinkHtml;\n",
              "          element.appendChild(docLink);\n",
              "        }\n",
              "      </script>\n",
              "    </div>\n",
              "  </div>\n",
              "  "
            ],
            "text/plain": [
              "               Category                                             Resume  \\\n",
              "37         Data Science  Education Details \\r\\n B.Tech   Rayat and Bahr...   \n",
              "17         Data Science  Education Details \\r\\n B.Tech   Rayat and Bahr...   \n",
              "7          Data Science  Education Details \\r\\n B.Tech   Rayat and Bahr...   \n",
              "27         Data Science  Education Details \\r\\n B.Tech   Rayat and Bahr...   \n",
              "3          Data Science  Skills â¢ R â¢ Python â¢ SAP HANA â¢ Table...   \n",
              "33         Data Science  Skills â¢ R â¢ Python â¢ SAP HANA â¢ Table...   \n",
              "23         Data Science  Skills â¢ R â¢ Python â¢ SAP HANA â¢ Table...   \n",
              "13         Data Science  Skills â¢ R â¢ Python â¢ SAP HANA â¢ Table...   \n",
              "0          Data Science  Skills * Programming Languages: Python (pandas...   \n",
              "428    Business Analyst  IT Skills: Area Exposure Modeling Tool: Bizagi...   \n",
              "535  Operations Manager  Education Details \\r\\n BCA   Vinayaka Missions...   \n",
              "539  Operations Manager  Education Details \\r\\n BCA   Vinayaka Missions...   \n",
              "424    Business Analyst  IT Skills: Area Exposure Modeling Tool: Bizagi...   \n",
              "543  Operations Manager  Education Details \\r\\n BCA   Vinayaka Missions...   \n",
              "531  Operations Manager  Education Details \\r\\n BCA   Vinayaka Missions...   \n",
              "30         Data Science  Skills * Programming Languages: Python (pandas...   \n",
              "410    Business Analyst  IT Skills: Area Exposure Modeling Tool: Bizagi...   \n",
              "420    Business Analyst  IT Skills: Area Exposure Modeling Tool: Bizagi...   \n",
              "547  Operations Manager  Education Details \\r\\n BCA   Vinayaka Missions...   \n",
              "20         Data Science  Skills * Programming Languages: Python (pandas...   \n",
              "511  Operations Manager  Education Details \\r\\n BCA   Vinayaka Missions...   \n",
              "523  Operations Manager  Education Details \\r\\n BCA   Vinayaka Missions...   \n",
              "519  Operations Manager  Education Details \\r\\n BCA   Vinayaka Missions...   \n",
              "515  Operations Manager  Education Details \\r\\n BCA   Vinayaka Missions...   \n",
              "10         Data Science  Skills * Programming Languages: Python (pandas...   \n",
              "414    Business Analyst  IT Skills: Area Exposure Modeling Tool: Bizagi...   \n",
              "527  Operations Manager  Education Details \\r\\n BCA   Vinayaka Missions...   \n",
              "406    Business Analyst  IT Skills: Area Exposure Modeling Tool: Bizagi...   \n",
              "767              Hadoop  Technical Skill Set: Programming Languages Apa...   \n",
              "760              Hadoop  Technical Skill Set: Programming Languages Apa...   \n",
              "781              Hadoop  Technical Skill Set: Programming Languages Apa...   \n",
              "753              Hadoop  Technical Skill Set: Programming Languages Apa...   \n",
              "746              Hadoop  Technical Skill Set: Programming Languages Apa...   \n",
              "774              Hadoop  Technical Skill Set: Programming Languages Apa...   \n",
              "\n",
              "     skills_matched  \n",
              "37               49  \n",
              "17               49  \n",
              "7                49  \n",
              "27               49  \n",
              "3                48  \n",
              "33               48  \n",
              "23               48  \n",
              "13               48  \n",
              "0                46  \n",
              "428              46  \n",
              "535              46  \n",
              "539              46  \n",
              "424              46  \n",
              "543              46  \n",
              "531              46  \n",
              "30               46  \n",
              "410              46  \n",
              "420              46  \n",
              "547              46  \n",
              "20               46  \n",
              "511              46  \n",
              "523              46  \n",
              "519              46  \n",
              "515              46  \n",
              "10               46  \n",
              "414              46  \n",
              "527              46  \n",
              "406              46  \n",
              "767              44  \n",
              "760              44  \n",
              "781              44  \n",
              "753              44  \n",
              "746              44  \n",
              "774              44  "
            ]
          },
          "execution_count": 288,
          "metadata": {},
          "output_type": "execute_result"
        }
      ],
      "source": [
        "df[df['skills_matched']>=40][['Category','Resume','skills_matched']]"
      ]
    },
    {
      "cell_type": "code",
      "execution_count": null,
      "metadata": {
        "colab": {
          "base_uri": "https://localhost:8080/"
        },
        "id": "IHAqUVGfHjts",
        "outputId": "174bc925-36a9-4a93-f26f-665b9ec08335"
      },
      "outputs": [
        {
          "data": {
            "text/plain": [
              "34"
            ]
          },
          "execution_count": 289,
          "metadata": {},
          "output_type": "execute_result"
        }
      ],
      "source": [
        "len(df[df['skills_matched']>=40][['Category','Resume','skills_matched']])"
      ]
    },
    {
      "cell_type": "markdown",
      "metadata": {
        "id": "nLsfCm4WIIUm"
      },
      "source": [
        "# There are 34 resumes which the number of skills matched is more than 40"
      ]
    },
    {
      "cell_type": "markdown",
      "metadata": {
        "id": "I6kc_8aJ4aH9"
      },
      "source": [
        "# Skills matching values & their record counts"
      ]
    },
    {
      "cell_type": "code",
      "execution_count": null,
      "metadata": {
        "colab": {
          "base_uri": "https://localhost:8080/"
        },
        "id": "nTKWml_h-TmN",
        "outputId": "aa63ea56-fafd-4b80-9a0f-96f641c2d119"
      },
      "outputs": [
        {
          "data": {
            "text/plain": [
              "7     70\n",
              "14    62\n",
              "27    60\n",
              "9     51\n",
              "11    48\n",
              "13    45\n",
              "10    40\n",
              "8     40\n",
              "20    40\n",
              "19    39\n",
              "3     38\n",
              "18    33\n",
              "15    31\n",
              "12    29\n",
              "17    29\n",
              "5     26\n",
              "23    22\n",
              "4     20\n",
              "46    20\n",
              "34    18\n",
              "2     18\n",
              "32    16\n",
              "38    16\n",
              "21    16\n",
              "22    15\n",
              "25    14\n",
              "37    14\n",
              "28    12\n",
              "29    10\n",
              "39    10\n",
              "16     9\n",
              "33     8\n",
              "6      6\n",
              "44     6\n",
              "36     6\n",
              "24     5\n",
              "48     4\n",
              "31     4\n",
              "30     4\n",
              "49     4\n",
              "26     3\n",
              "35     1\n",
              "Name: skills_matched, dtype: int64"
            ]
          },
          "execution_count": 285,
          "metadata": {},
          "output_type": "execute_result"
        }
      ],
      "source": [
        "df['skills_matched'].value_counts()"
      ]
    },
    {
      "cell_type": "code",
      "execution_count": null,
      "metadata": {
        "colab": {
          "base_uri": "https://localhost:8080/",
          "height": 312
        },
        "id": "dpkOXhFP4YLf",
        "outputId": "12c3d1cb-8a4d-4f0b-d4d8-80e6c9c526f5"
      },
      "outputs": [
        {
          "data": {
            "text/plain": [
              "Text(0.5, 1.0, 'Skill matching values count in different ranges')"
            ]
          },
          "execution_count": 287,
          "metadata": {},
          "output_type": "execute_result"
        },
        {
          "data": {
            "image/png": "[encoded data removed]",
            "text/plain": [
              "<Figure size 432x288 with 1 Axes>"
            ]
          },
          "metadata": {
            "needs_background": "light"
          },
          "output_type": "display_data"
        }
      ],
      "source": [
        "plt.hist(df['skills_matched'],bins=25,color='coral')\n",
        "plt.ylim(0,20)\n",
        "plt.xlabel('Skills matching values')\n",
        "plt.ylabel('No of Records')\n",
        "plt.title('Skill matching values count in different ranges')"
      ]
    },
    {
      "cell_type": "markdown",
      "metadata": {
        "id": "gBXcgzjOIW1C"
      },
      "source": [
        "# Observation in above chart :\n",
        "\n",
        "*  Most of the resumes are not properly matched the skillsets and matched skillsets are below 40\n",
        "* Only 34 resumes are matching more than 40 resumes"
      ]
    },
    {
      "cell_type": "markdown",
      "metadata": {
        "id": "-C3pkF50KGSy"
      },
      "source": [
        "# Conclusion :\n",
        "\n",
        "* We can select resumes which are matching more than 40 skillsets.**34 Records** are present which matched more than 40 phrases.\n",
        "\n"
      ]
    }
  ],
  "metadata": {
    "colab": {
      "provenance": []
    },
    "kernelspec": {
      "display_name": "Python 3 (ipykernel)",
      "language": "python",
      "name": "python3"
    },
    "language_info": {
      "codemirror_mode": {
        "name": "ipython",
        "version": 3
      },
      "file_extension": ".py",
      "mimetype": "text/x-python",
      "name": "python",
      "nbconvert_exporter": "python",
      "pygments_lexer": "ipython3",
      "version": "3.9.13"
    }
  },
  "nbformat": 4,
  "nbformat_minor": 0
}